{
 "cells": [
  {
   "cell_type": "markdown",
   "id": "69ff72bc-061e-40c2-8bba-95c80b5fc5fd",
   "metadata": {},
   "source": [
    "# Index of all \n",
    "- Numpy\n",
    "- Scipy\n",
    "- Pandas\n",
    "- matplotlib\n",
    "- Seaborn\n",
    "- Statsmodel\n",
    "- Reading Data in python\n",
    "- JSON"
   ]
  },
  {
   "cell_type": "markdown",
   "id": "5d1b23d0-bf8e-41ce-baf7-16796fb1ba23",
   "metadata": {},
   "source": [
    "# Numpy "
   ]
  },
  {
   "cell_type": "markdown",
   "id": "284335e2-69df-41c5-aee3-09215cdd554c",
   "metadata": {},
   "source": [
    "- Used for fourier transformatin, random number capabilities, linear algebra<br>\n",
    "- c and c++\n"
   ]
  },
  {
   "cell_type": "code",
   "execution_count": 1,
   "id": "14ce4ccc-44b9-43b5-bdb9-0f5e576b19f0",
   "metadata": {},
   "outputs": [],
   "source": [
    "import numpy as np"
   ]
  },
  {
   "cell_type": "code",
   "execution_count": 2,
   "id": "d03bc316-5887-4cc4-ad92-eb07b8906667",
   "metadata": {},
   "outputs": [
    {
     "data": {
      "text/plain": [
       "'1.26.4'"
      ]
     },
     "execution_count": 2,
     "metadata": {},
     "output_type": "execute_result"
    }
   ],
   "source": [
    "np.__version__"
   ]
  },
  {
   "cell_type": "code",
   "execution_count": 3,
   "id": "d7404338-c70b-43d1-92a5-62534d412a3b",
   "metadata": {},
   "outputs": [],
   "source": [
    "# Creating array using numpy\n",
    "\n",
    "a = np.array([1,2,3,4])"
   ]
  },
  {
   "cell_type": "code",
   "execution_count": 4,
   "id": "1f317930-76ea-4d7e-a9a5-9031a06175b8",
   "metadata": {},
   "outputs": [
    {
     "data": {
      "text/plain": [
       "array([1, 2, 3, 4])"
      ]
     },
     "execution_count": 4,
     "metadata": {},
     "output_type": "execute_result"
    }
   ],
   "source": [
    "a"
   ]
  },
  {
   "cell_type": "markdown",
   "id": "6a100740-0268-422d-a2b2-aabad6a9c9c5",
   "metadata": {},
   "source": [
    "#### Difference between numpy array and normal array\n"
   ]
  },
  {
   "cell_type": "code",
   "execution_count": 7,
   "id": "1b2f0e72-a2d8-40ea-8138-08927cbf199e",
   "metadata": {},
   "outputs": [
    {
     "data": {
      "text/plain": [
       "array(['1', 'w'], dtype='<U21')"
      ]
     },
     "execution_count": 7,
     "metadata": {},
     "output_type": "execute_result"
    }
   ],
   "source": [
    "a = np.array([1,'w'])\n",
    "a"
   ]
  },
  {
   "cell_type": "code",
   "execution_count": 8,
   "id": "41a335c4-bd59-4971-8b72-a7184a1ff9bd",
   "metadata": {},
   "outputs": [
    {
     "data": {
      "text/plain": [
       "[1, 'w']"
      ]
     },
     "execution_count": 8,
     "metadata": {},
     "output_type": "execute_result"
    }
   ],
   "source": [
    "a = [1,'w']\n",
    "a"
   ]
  },
  {
   "cell_type": "markdown",
   "id": "7f731236-efd2-4927-827e-02b78ce323cf",
   "metadata": {},
   "source": [
    "In normal array the data type will not be changes but in numpy array if it has differnent data type elements in convert it into strings"
   ]
  },
  {
   "cell_type": "code",
   "execution_count": 9,
   "id": "2ff16786-d0ce-486f-a4d1-8ccdf025ba61",
   "metadata": {},
   "outputs": [
    {
     "data": {
      "text/plain": [
       "[1, 2, 3, 4, 5, 1, 2, 3, 4, 5]"
      ]
     },
     "execution_count": 9,
     "metadata": {},
     "output_type": "execute_result"
    }
   ],
   "source": [
    "# another difference\n",
    "\n",
    "a = [1,2,3,4,5]\n",
    "a*2"
   ]
  },
  {
   "cell_type": "code",
   "execution_count": 10,
   "id": "35d665e0-a15d-4c5e-82f0-90186f554a7d",
   "metadata": {},
   "outputs": [
    {
     "data": {
      "text/plain": [
       "array([ 2,  4,  6,  8, 10])"
      ]
     },
     "execution_count": 10,
     "metadata": {},
     "output_type": "execute_result"
    }
   ],
   "source": [
    "a = np.array([1,2,3,4,5])\n",
    "a*2"
   ]
  },
  {
   "cell_type": "markdown",
   "id": "05ad6f67-810a-4779-bd43-056d1a901b7f",
   "metadata": {},
   "source": [
    "#### Creating matrix"
   ]
  },
  {
   "cell_type": "code",
   "execution_count": 11,
   "id": "1cb00c88-1f3d-4abd-98ad-79cdd230da89",
   "metadata": {},
   "outputs": [
    {
     "data": {
      "text/plain": [
       "[[1, 2, 3], [4, 5, 6], [7, 8, 9]]"
      ]
     },
     "execution_count": 11,
     "metadata": {},
     "output_type": "execute_result"
    }
   ],
   "source": [
    "a = [\n",
    "    [1,2,3],\n",
    "    [4,5,6],\n",
    "    [7,8,9]\n",
    "]\n",
    "a"
   ]
  },
  {
   "cell_type": "code",
   "execution_count": 12,
   "id": "e4f05aa8-fb80-4353-b9c1-037626883081",
   "metadata": {},
   "outputs": [
    {
     "data": {
      "text/plain": [
       "array([[1, 2, 3],\n",
       "       [4, 5, 6],\n",
       "       [7, 8, 9]])"
      ]
     },
     "execution_count": 12,
     "metadata": {},
     "output_type": "execute_result"
    }
   ],
   "source": [
    "a = np.array(a)\n",
    "a"
   ]
  },
  {
   "cell_type": "code",
   "execution_count": 13,
   "id": "c70e6f15-4049-4553-860a-53d935fff9b7",
   "metadata": {},
   "outputs": [
    {
     "data": {
      "text/plain": [
       "2"
      ]
     },
     "execution_count": 13,
     "metadata": {},
     "output_type": "execute_result"
    }
   ],
   "source": [
    "a[0][1]"
   ]
  },
  {
   "cell_type": "code",
   "execution_count": 22,
   "id": "c7ce8249-6998-4294-95c1-07a8a1dbc132",
   "metadata": {},
   "outputs": [
    {
     "data": {
      "text/plain": [
       "array([[0, 2, 9],\n",
       "       [5, 3, 4],\n",
       "       [4, 5, 2]])"
      ]
     },
     "execution_count": 22,
     "metadata": {},
     "output_type": "execute_result"
    }
   ],
   "source": [
    "# Creating array using random function\n",
    "\n",
    "a = np.random.randint(0,10,(3,3))\n",
    "a"
   ]
  },
  {
   "cell_type": "code",
   "execution_count": 25,
   "id": "e721f18e-2671-4b88-b193-9cae139ec98e",
   "metadata": {},
   "outputs": [
    {
     "data": {
      "text/plain": [
       "array([[5, 0, 3],\n",
       "       [3, 7, 9],\n",
       "       [3, 5, 2]])"
      ]
     },
     "execution_count": 25,
     "metadata": {},
     "output_type": "execute_result"
    }
   ],
   "source": [
    "# the is a way to fix the randomness in the random function\n",
    "\n",
    "np.random.seed(0)\n",
    "a = np.random.randint(0,10,(3,3))\n",
    "a"
   ]
  },
  {
   "cell_type": "code",
   "execution_count": 32,
   "id": "b33675ab-a05f-4c22-ad5b-7f32d0590bb6",
   "metadata": {},
   "outputs": [
    {
     "data": {
      "text/plain": [
       "array([[0, 0, 0, 0, 0],\n",
       "       [0, 0, 0, 0, 0],\n",
       "       [0, 0, 0, 0, 0],\n",
       "       [0, 0, 0, 0, 0]])"
      ]
     },
     "execution_count": 32,
     "metadata": {},
     "output_type": "execute_result"
    }
   ],
   "source": [
    "# Creating matix with zeros\n",
    "\n",
    "np.zeros((4,5),dtype=int)"
   ]
  },
  {
   "cell_type": "code",
   "execution_count": 33,
   "id": "2279d883-c2c7-4bc3-a5ec-76a7fbee5a06",
   "metadata": {},
   "outputs": [
    {
     "data": {
      "text/plain": [
       "array([[1, 1, 1, 1, 1],\n",
       "       [1, 1, 1, 1, 1],\n",
       "       [1, 1, 1, 1, 1],\n",
       "       [1, 1, 1, 1, 1]])"
      ]
     },
     "execution_count": 33,
     "metadata": {},
     "output_type": "execute_result"
    }
   ],
   "source": [
    "# Creating 1's matrx\n",
    "\n",
    "np.ones((4,5),dtype = int)"
   ]
  },
  {
   "cell_type": "code",
   "execution_count": 38,
   "id": "05b21079-66c2-4dfb-b8e2-27dcb9c036ab",
   "metadata": {},
   "outputs": [
    {
     "data": {
      "text/plain": [
       "array([[1, 0, 0, 0],\n",
       "       [0, 1, 0, 0],\n",
       "       [0, 0, 1, 0],\n",
       "       [0, 0, 0, 1]])"
      ]
     },
     "execution_count": 38,
     "metadata": {},
     "output_type": "execute_result"
    }
   ],
   "source": [
    "# creating identity matrix\n",
    "\n",
    "np.identity(4, dtype = int)"
   ]
  },
  {
   "cell_type": "code",
   "execution_count": 39,
   "id": "331a23dd-6418-4342-8f7f-402ab1903ea4",
   "metadata": {},
   "outputs": [
    {
     "data": {
      "text/plain": [
       "array([[100, 100, 100, 100, 100],\n",
       "       [100, 100, 100, 100, 100],\n",
       "       [100, 100, 100, 100, 100],\n",
       "       [100, 100, 100, 100, 100]])"
      ]
     },
     "execution_count": 39,
     "metadata": {},
     "output_type": "execute_result"
    }
   ],
   "source": [
    "# creating array with a specified value\n",
    "\n",
    "np.full((4,5),100)"
   ]
  },
  {
   "cell_type": "markdown",
   "id": "0b339146-9ffe-44de-95bc-9db41777689b",
   "metadata": {},
   "source": [
    "#### Array concatination"
   ]
  },
  {
   "cell_type": "code",
   "execution_count": 40,
   "id": "32ecae47-14ac-437d-80a1-2a6586739132",
   "metadata": {},
   "outputs": [
    {
     "name": "stdout",
     "output_type": "stream",
     "text": [
      "[[1 2 3]\n",
      " [4 5 6]]\n"
     ]
    }
   ],
   "source": [
    "m1 = np.array([[1,2,3],\n",
    "              [4,5,6]])\n",
    "print(m1)"
   ]
  },
  {
   "cell_type": "code",
   "execution_count": 41,
   "id": "90fb925a-aeed-473c-b62f-3691358c85e5",
   "metadata": {},
   "outputs": [
    {
     "name": "stdout",
     "output_type": "stream",
     "text": [
      "[[ 7  8  9]\n",
      " [10 11 12]]\n"
     ]
    }
   ],
   "source": [
    "m2 = np.array([[7,8,9],\n",
    "              [10,11,12]])\n",
    "print(m2)"
   ]
  },
  {
   "cell_type": "code",
   "execution_count": 46,
   "id": "7865d26e-c82c-4d01-9b12-36c788eccf0b",
   "metadata": {},
   "outputs": [
    {
     "data": {
      "text/plain": [
       "array([[ 1,  2,  3],\n",
       "       [ 4,  5,  6],\n",
       "       [ 7,  8,  9],\n",
       "       [10, 11, 12]])"
      ]
     },
     "execution_count": 46,
     "metadata": {},
     "output_type": "execute_result"
    }
   ],
   "source": [
    "# concatination along row wise\n",
    "\n",
    "m1_m2_comb = np.concatenate([m1,m2],axis = 0)\n",
    "m1_m2_comb"
   ]
  },
  {
   "cell_type": "code",
   "execution_count": 47,
   "id": "fd248938-92b5-4131-99de-b2ffca8f1f2d",
   "metadata": {},
   "outputs": [
    {
     "data": {
      "text/plain": [
       "array([[ 1,  2,  3,  7,  8,  9],\n",
       "       [ 4,  5,  6, 10, 11, 12]])"
      ]
     },
     "execution_count": 47,
     "metadata": {},
     "output_type": "execute_result"
    }
   ],
   "source": [
    "# concatination along column wise\n",
    "\n",
    "m1_m2_comb = np.concatenate([m1,m2],axis = 1)\n",
    "m1_m2_comb"
   ]
  },
  {
   "cell_type": "markdown",
   "id": "1fc5eb2c-1295-4639-b667-feafcd5fa1a5",
   "metadata": {},
   "source": [
    "# Scipy"
   ]
  },
  {
   "cell_type": "code",
   "execution_count": 48,
   "id": "3052aed4-574b-4ea2-a1bc-bf92c4d5a045",
   "metadata": {},
   "outputs": [],
   "source": [
    "import scipy as sp"
   ]
  },
  {
   "cell_type": "code",
   "execution_count": 50,
   "id": "b7e4d2ce-3db2-4b65-8e87-33c7773b439b",
   "metadata": {},
   "outputs": [
    {
     "data": {
      "text/plain": [
       "'1.11.4'"
      ]
     },
     "execution_count": 50,
     "metadata": {},
     "output_type": "execute_result"
    }
   ],
   "source": [
    "sp.__version__"
   ]
  },
  {
   "cell_type": "markdown",
   "id": "c48621a3-1164-4b93-b652-e006f20ba5f9",
   "metadata": {},
   "source": [
    "#### Computing using scipy"
   ]
  },
  {
   "cell_type": "code",
   "execution_count": 55,
   "id": "dc3db15f-0c2e-42ed-9901-6e53b96011e1",
   "metadata": {},
   "outputs": [],
   "source": [
    "# import derivative\n",
    "\n",
    "from scipy.misc import derivative"
   ]
  },
  {
   "cell_type": "code",
   "execution_count": 56,
   "id": "178bb01d-755f-4840-b48c-a92a4c9af71c",
   "metadata": {},
   "outputs": [
    {
     "name": "stderr",
     "output_type": "stream",
     "text": [
      "/var/folders/gy/xjm4pgvj1qv72yxtgzksblzw0000gp/T/ipykernel_29207/1241780071.py:4: DeprecationWarning: scipy.misc.derivative is deprecated in SciPy v1.10.0; and will be completely removed in SciPy v1.12.0. You may consider using findiff: https://github.com/maroba/findiff or numdifftools: https://github.com/pbrod/numdifftools\n",
      "  derivative(func = my_func, x0 = 2)\n"
     ]
    },
    {
     "data": {
      "text/plain": [
       "5.0"
      ]
     },
     "execution_count": 56,
     "metadata": {},
     "output_type": "execute_result"
    }
   ],
   "source": [
    "\n",
    "def my_func(x):\n",
    "    return x**2 +x +1\n",
    "\n",
    "derivative(func = my_func, x0 = 2)"
   ]
  },
  {
   "cell_type": "code",
   "execution_count": 57,
   "id": "7973598a-5aa6-4bcf-9633-69ec3da39d99",
   "metadata": {},
   "outputs": [],
   "source": [
    "# Permutation\n",
    "\n",
    "from scipy.special import perm"
   ]
  },
  {
   "cell_type": "code",
   "execution_count": 58,
   "id": "5af9fbb6-d371-4d84-ac8a-48dccb90e856",
   "metadata": {},
   "outputs": [
    {
     "data": {
      "text/plain": [
       "12.0"
      ]
     },
     "execution_count": 58,
     "metadata": {},
     "output_type": "execute_result"
    }
   ],
   "source": [
    "per = perm(4,2)\n",
    "per"
   ]
  },
  {
   "cell_type": "code",
   "execution_count": 60,
   "id": "4af4eae7-06d3-4ab4-ab10-353b08a8f389",
   "metadata": {},
   "outputs": [],
   "source": [
    "# Linear algebra\n",
    "\n",
    "from scipy import linalg\n",
    "import numpy as np"
   ]
  },
  {
   "cell_type": "code",
   "execution_count": 61,
   "id": "e5cd8f23-9919-42eb-84c2-90c92594d197",
   "metadata": {},
   "outputs": [
    {
     "data": {
      "text/plain": [
       "array([[1, 2, 3],\n",
       "       [4, 5, 6],\n",
       "       [7, 8, 9]])"
      ]
     },
     "execution_count": 61,
     "metadata": {},
     "output_type": "execute_result"
    }
   ],
   "source": [
    "matrix = np.array([[1,2,3],\n",
    "                 [4,5,6],\n",
    "                 [7,8,9]])\n",
    "matrix"
   ]
  },
  {
   "cell_type": "code",
   "execution_count": 65,
   "id": "0388c3e2-713e-4844-9d90-5f4958b12f1a",
   "metadata": {},
   "outputs": [
    {
     "data": {
      "text/plain": [
       "0.0"
      ]
     },
     "execution_count": 65,
     "metadata": {},
     "output_type": "execute_result"
    }
   ],
   "source": [
    "linalg.det(matrix)"
   ]
  },
  {
   "cell_type": "code",
   "execution_count": null,
   "id": "e2ecded0-9ed0-4f0f-8918-fa8098bb793b",
   "metadata": {},
   "outputs": [],
   "source": [
    "linalg.inv(matrix)"
   ]
  },
  {
   "cell_type": "markdown",
   "id": "8d62a38f-e4f1-4d2c-937c-f85977eec57e",
   "metadata": {},
   "source": [
    "# pandas\n",
    "- we can read and write different formats of files like CSV, JSON, EXCEL, HTML, etc\n",
    "- we can summerize the data\n",
    "- we can filter and modeify the data\n",
    "- we can merge multiple files"
   ]
  },
  {
   "cell_type": "code",
   "execution_count": 70,
   "id": "a8f70ca3-d5a0-4fd0-b56d-aca375d937a2",
   "metadata": {},
   "outputs": [],
   "source": [
    "# import the library\n",
    "import pandas as pd"
   ]
  },
  {
   "cell_type": "code",
   "execution_count": 71,
   "id": "9a874548-ba54-40b3-b422-94a6afe2b245",
   "metadata": {},
   "outputs": [
    {
     "data": {
      "text/plain": [
       "'2.1.4'"
      ]
     },
     "execution_count": 71,
     "metadata": {},
     "output_type": "execute_result"
    }
   ],
   "source": [
    "pd.__version__"
   ]
  },
  {
   "cell_type": "code",
   "execution_count": 74,
   "id": "34004f0e-ce45-4527-b3d4-17310a78447d",
   "metadata": {},
   "outputs": [],
   "source": [
    "# reading a csv file\n",
    "\n",
    "df = pd.read_csv('weatherData.csv')"
   ]
  },
  {
   "cell_type": "code",
   "execution_count": 75,
   "id": "35000f72-9c6b-4bee-86bc-db20dbd4e3aa",
   "metadata": {},
   "outputs": [
    {
     "data": {
      "text/html": [
       "<div>\n",
       "<style scoped>\n",
       "    .dataframe tbody tr th:only-of-type {\n",
       "        vertical-align: middle;\n",
       "    }\n",
       "\n",
       "    .dataframe tbody tr th {\n",
       "        vertical-align: top;\n",
       "    }\n",
       "\n",
       "    .dataframe thead th {\n",
       "        text-align: right;\n",
       "    }\n",
       "</style>\n",
       "<table border=\"1\" class=\"dataframe\">\n",
       "  <thead>\n",
       "    <tr style=\"text-align: right;\">\n",
       "      <th></th>\n",
       "      <th>Year</th>\n",
       "      <th>Month</th>\n",
       "      <th>Day</th>\n",
       "      <th>Hour</th>\n",
       "      <th>SunlightMin</th>\n",
       "      <th>HourlySkyWeather</th>\n",
       "      <th>HourlyVisibility</th>\n",
       "      <th>HourlyWindDirection</th>\n",
       "      <th>HourlyWindSpeed</th>\n",
       "      <th>SunriseHour</th>\n",
       "      <th>SunriseMin</th>\n",
       "      <th>SunsetHour</th>\n",
       "      <th>SunsetMin</th>\n",
       "    </tr>\n",
       "  </thead>\n",
       "  <tbody>\n",
       "    <tr>\n",
       "      <th>0</th>\n",
       "      <td>2017</td>\n",
       "      <td>9</td>\n",
       "      <td>16</td>\n",
       "      <td>0</td>\n",
       "      <td>747</td>\n",
       "      <td>CLR</td>\n",
       "      <td>7.0</td>\n",
       "      <td>0</td>\n",
       "      <td>0.0</td>\n",
       "      <td>5</td>\n",
       "      <td>37</td>\n",
       "      <td>18</td>\n",
       "      <td>4</td>\n",
       "    </tr>\n",
       "    <tr>\n",
       "      <th>1</th>\n",
       "      <td>2017</td>\n",
       "      <td>9</td>\n",
       "      <td>16</td>\n",
       "      <td>1</td>\n",
       "      <td>747</td>\n",
       "      <td>CLR</td>\n",
       "      <td>6.0</td>\n",
       "      <td>0</td>\n",
       "      <td>0.0</td>\n",
       "      <td>5</td>\n",
       "      <td>37</td>\n",
       "      <td>18</td>\n",
       "      <td>4</td>\n",
       "    </tr>\n",
       "    <tr>\n",
       "      <th>2</th>\n",
       "      <td>2017</td>\n",
       "      <td>9</td>\n",
       "      <td>16</td>\n",
       "      <td>2</td>\n",
       "      <td>747</td>\n",
       "      <td>CLR</td>\n",
       "      <td>4.0</td>\n",
       "      <td>40</td>\n",
       "      <td>3.0</td>\n",
       "      <td>5</td>\n",
       "      <td>37</td>\n",
       "      <td>18</td>\n",
       "      <td>4</td>\n",
       "    </tr>\n",
       "    <tr>\n",
       "      <th>3</th>\n",
       "      <td>2017</td>\n",
       "      <td>9</td>\n",
       "      <td>16</td>\n",
       "      <td>3</td>\n",
       "      <td>747</td>\n",
       "      <td>CLR</td>\n",
       "      <td>3.0</td>\n",
       "      <td>50</td>\n",
       "      <td>3.0</td>\n",
       "      <td>5</td>\n",
       "      <td>37</td>\n",
       "      <td>18</td>\n",
       "      <td>4</td>\n",
       "    </tr>\n",
       "    <tr>\n",
       "      <th>4</th>\n",
       "      <td>2017</td>\n",
       "      <td>9</td>\n",
       "      <td>16</td>\n",
       "      <td>4</td>\n",
       "      <td>747</td>\n",
       "      <td>CLR</td>\n",
       "      <td>3.0</td>\n",
       "      <td>0</td>\n",
       "      <td>0.0</td>\n",
       "      <td>5</td>\n",
       "      <td>37</td>\n",
       "      <td>18</td>\n",
       "      <td>4</td>\n",
       "    </tr>\n",
       "  </tbody>\n",
       "</table>\n",
       "</div>"
      ],
      "text/plain": [
       "   Year  Month  Day  Hour  SunlightMin HourlySkyWeather  HourlyVisibility  \\\n",
       "0  2017      9   16     0          747              CLR               7.0   \n",
       "1  2017      9   16     1          747              CLR               6.0   \n",
       "2  2017      9   16     2          747              CLR               4.0   \n",
       "3  2017      9   16     3          747              CLR               3.0   \n",
       "4  2017      9   16     4          747              CLR               3.0   \n",
       "\n",
       "  HourlyWindDirection  HourlyWindSpeed  SunriseHour  SunriseMin  SunsetHour  \\\n",
       "0                   0              0.0            5          37          18   \n",
       "1                   0              0.0            5          37          18   \n",
       "2                  40              3.0            5          37          18   \n",
       "3                  50              3.0            5          37          18   \n",
       "4                   0              0.0            5          37          18   \n",
       "\n",
       "   SunsetMin  \n",
       "0          4  \n",
       "1          4  \n",
       "2          4  \n",
       "3          4  \n",
       "4          4  "
      ]
     },
     "execution_count": 75,
     "metadata": {},
     "output_type": "execute_result"
    }
   ],
   "source": [
    "df.head(5)"
   ]
  },
  {
   "cell_type": "code",
   "execution_count": 78,
   "id": "ea396abe-af8b-4e13-9344-49bf4d47fc18",
   "metadata": {},
   "outputs": [
    {
     "data": {
      "text/plain": [
       "(8758, 13)"
      ]
     },
     "execution_count": 78,
     "metadata": {},
     "output_type": "execute_result"
    }
   ],
   "source": [
    "df.shape"
   ]
  },
  {
   "cell_type": "code",
   "execution_count": 79,
   "id": "22ab96c4-893b-4e03-978a-f8987fa809a2",
   "metadata": {},
   "outputs": [
    {
     "data": {
      "text/html": [
       "<div>\n",
       "<style scoped>\n",
       "    .dataframe tbody tr th:only-of-type {\n",
       "        vertical-align: middle;\n",
       "    }\n",
       "\n",
       "    .dataframe tbody tr th {\n",
       "        vertical-align: top;\n",
       "    }\n",
       "\n",
       "    .dataframe thead th {\n",
       "        text-align: right;\n",
       "    }\n",
       "</style>\n",
       "<table border=\"1\" class=\"dataframe\">\n",
       "  <thead>\n",
       "    <tr style=\"text-align: right;\">\n",
       "      <th></th>\n",
       "      <th>Year</th>\n",
       "      <th>Month</th>\n",
       "      <th>Day</th>\n",
       "      <th>Hour</th>\n",
       "      <th>SunlightMin</th>\n",
       "      <th>HourlySkyWeather</th>\n",
       "      <th>HourlyVisibility</th>\n",
       "      <th>HourlyWindDirection</th>\n",
       "      <th>HourlyWindSpeed</th>\n",
       "      <th>SunriseHour</th>\n",
       "      <th>SunriseMin</th>\n",
       "      <th>SunsetHour</th>\n",
       "      <th>SunsetMin</th>\n",
       "    </tr>\n",
       "  </thead>\n",
       "  <tbody>\n",
       "    <tr>\n",
       "      <th>8753</th>\n",
       "      <td>2018</td>\n",
       "      <td>9</td>\n",
       "      <td>15</td>\n",
       "      <td>19</td>\n",
       "      <td>747</td>\n",
       "      <td>CLR</td>\n",
       "      <td>10.0</td>\n",
       "      <td>False</td>\n",
       "      <td>NaN</td>\n",
       "      <td>5</td>\n",
       "      <td>37</td>\n",
       "      <td>18</td>\n",
       "      <td>4</td>\n",
       "    </tr>\n",
       "    <tr>\n",
       "      <th>8754</th>\n",
       "      <td>2018</td>\n",
       "      <td>9</td>\n",
       "      <td>15</td>\n",
       "      <td>20</td>\n",
       "      <td>747</td>\n",
       "      <td>CLR</td>\n",
       "      <td>10.0</td>\n",
       "      <td>False</td>\n",
       "      <td>NaN</td>\n",
       "      <td>5</td>\n",
       "      <td>37</td>\n",
       "      <td>18</td>\n",
       "      <td>4</td>\n",
       "    </tr>\n",
       "    <tr>\n",
       "      <th>8755</th>\n",
       "      <td>2018</td>\n",
       "      <td>9</td>\n",
       "      <td>15</td>\n",
       "      <td>21</td>\n",
       "      <td>747</td>\n",
       "      <td>CLR</td>\n",
       "      <td>10.0</td>\n",
       "      <td>False</td>\n",
       "      <td>NaN</td>\n",
       "      <td>5</td>\n",
       "      <td>37</td>\n",
       "      <td>18</td>\n",
       "      <td>4</td>\n",
       "    </tr>\n",
       "    <tr>\n",
       "      <th>8756</th>\n",
       "      <td>2018</td>\n",
       "      <td>9</td>\n",
       "      <td>15</td>\n",
       "      <td>22</td>\n",
       "      <td>747</td>\n",
       "      <td>CLR</td>\n",
       "      <td>10.0</td>\n",
       "      <td>False</td>\n",
       "      <td>NaN</td>\n",
       "      <td>5</td>\n",
       "      <td>37</td>\n",
       "      <td>18</td>\n",
       "      <td>4</td>\n",
       "    </tr>\n",
       "    <tr>\n",
       "      <th>8757</th>\n",
       "      <td>2018</td>\n",
       "      <td>9</td>\n",
       "      <td>15</td>\n",
       "      <td>23</td>\n",
       "      <td>747</td>\n",
       "      <td>CLR</td>\n",
       "      <td>NaN</td>\n",
       "      <td>False</td>\n",
       "      <td>NaN</td>\n",
       "      <td>5</td>\n",
       "      <td>37</td>\n",
       "      <td>18</td>\n",
       "      <td>4</td>\n",
       "    </tr>\n",
       "  </tbody>\n",
       "</table>\n",
       "</div>"
      ],
      "text/plain": [
       "      Year  Month  Day  Hour  SunlightMin HourlySkyWeather  HourlyVisibility  \\\n",
       "8753  2018      9   15    19          747              CLR              10.0   \n",
       "8754  2018      9   15    20          747              CLR              10.0   \n",
       "8755  2018      9   15    21          747              CLR              10.0   \n",
       "8756  2018      9   15    22          747              CLR              10.0   \n",
       "8757  2018      9   15    23          747              CLR               NaN   \n",
       "\n",
       "     HourlyWindDirection  HourlyWindSpeed  SunriseHour  SunriseMin  \\\n",
       "8753               False              NaN            5          37   \n",
       "8754               False              NaN            5          37   \n",
       "8755               False              NaN            5          37   \n",
       "8756               False              NaN            5          37   \n",
       "8757               False              NaN            5          37   \n",
       "\n",
       "      SunsetHour  SunsetMin  \n",
       "8753          18          4  \n",
       "8754          18          4  \n",
       "8755          18          4  \n",
       "8756          18          4  \n",
       "8757          18          4  "
      ]
     },
     "execution_count": 79,
     "metadata": {},
     "output_type": "execute_result"
    }
   ],
   "source": [
    "df.tail(5)"
   ]
  },
  {
   "cell_type": "code",
   "execution_count": 81,
   "id": "71fdc79a-2a62-48f7-a9f4-06e05490b6cc",
   "metadata": {},
   "outputs": [
    {
     "data": {
      "text/plain": [
       "Index(['Year', 'Month', 'Day', 'Hour', 'SunlightMin', 'HourlySkyWeather',\n",
       "       'HourlyVisibility', 'HourlyWindDirection', 'HourlyWindSpeed',\n",
       "       'SunriseHour', 'SunriseMin', 'SunsetHour', 'SunsetMin'],\n",
       "      dtype='object')"
      ]
     },
     "execution_count": 81,
     "metadata": {},
     "output_type": "execute_result"
    }
   ],
   "source": [
    "df.columns"
   ]
  },
  {
   "cell_type": "code",
   "execution_count": 82,
   "id": "392ac698-0c9c-49e8-b30d-74e90833c290",
   "metadata": {},
   "outputs": [
    {
     "data": {
      "text/plain": [
       "Year                     int64\n",
       "Month                    int64\n",
       "Day                      int64\n",
       "Hour                     int64\n",
       "SunlightMin              int64\n",
       "HourlySkyWeather        object\n",
       "HourlyVisibility       float64\n",
       "HourlyWindDirection     object\n",
       "HourlyWindSpeed        float64\n",
       "SunriseHour              int64\n",
       "SunriseMin               int64\n",
       "SunsetHour               int64\n",
       "SunsetMin                int64\n",
       "dtype: object"
      ]
     },
     "execution_count": 82,
     "metadata": {},
     "output_type": "execute_result"
    }
   ],
   "source": [
    "df.dtypes"
   ]
  },
  {
   "cell_type": "code",
   "execution_count": 85,
   "id": "3350f20c-dd06-4add-ab25-06df9e6fa0ae",
   "metadata": {},
   "outputs": [
    {
     "data": {
      "text/html": [
       "<div>\n",
       "<style scoped>\n",
       "    .dataframe tbody tr th:only-of-type {\n",
       "        vertical-align: middle;\n",
       "    }\n",
       "\n",
       "    .dataframe tbody tr th {\n",
       "        vertical-align: top;\n",
       "    }\n",
       "\n",
       "    .dataframe thead th {\n",
       "        text-align: right;\n",
       "    }\n",
       "</style>\n",
       "<table border=\"1\" class=\"dataframe\">\n",
       "  <thead>\n",
       "    <tr style=\"text-align: right;\">\n",
       "      <th></th>\n",
       "      <th>Year</th>\n",
       "      <th>Month</th>\n",
       "      <th>Day</th>\n",
       "      <th>Hour</th>\n",
       "      <th>SunlightMin</th>\n",
       "      <th>HourlySkyWeather</th>\n",
       "      <th>HourlyVisibility</th>\n",
       "      <th>HourlyWindDirection</th>\n",
       "      <th>HourlyWindSpeed</th>\n",
       "      <th>SunriseHour</th>\n",
       "      <th>SunriseMin</th>\n",
       "      <th>SunsetHour</th>\n",
       "      <th>SunsetMin</th>\n",
       "    </tr>\n",
       "  </thead>\n",
       "  <tbody>\n",
       "    <tr>\n",
       "      <th>0</th>\n",
       "      <td>False</td>\n",
       "      <td>False</td>\n",
       "      <td>False</td>\n",
       "      <td>False</td>\n",
       "      <td>False</td>\n",
       "      <td>False</td>\n",
       "      <td>False</td>\n",
       "      <td>False</td>\n",
       "      <td>False</td>\n",
       "      <td>False</td>\n",
       "      <td>False</td>\n",
       "      <td>False</td>\n",
       "      <td>False</td>\n",
       "    </tr>\n",
       "    <tr>\n",
       "      <th>1</th>\n",
       "      <td>False</td>\n",
       "      <td>False</td>\n",
       "      <td>False</td>\n",
       "      <td>False</td>\n",
       "      <td>False</td>\n",
       "      <td>False</td>\n",
       "      <td>False</td>\n",
       "      <td>False</td>\n",
       "      <td>False</td>\n",
       "      <td>False</td>\n",
       "      <td>False</td>\n",
       "      <td>False</td>\n",
       "      <td>False</td>\n",
       "    </tr>\n",
       "    <tr>\n",
       "      <th>2</th>\n",
       "      <td>False</td>\n",
       "      <td>False</td>\n",
       "      <td>False</td>\n",
       "      <td>False</td>\n",
       "      <td>False</td>\n",
       "      <td>False</td>\n",
       "      <td>False</td>\n",
       "      <td>False</td>\n",
       "      <td>False</td>\n",
       "      <td>False</td>\n",
       "      <td>False</td>\n",
       "      <td>False</td>\n",
       "      <td>False</td>\n",
       "    </tr>\n",
       "    <tr>\n",
       "      <th>3</th>\n",
       "      <td>False</td>\n",
       "      <td>False</td>\n",
       "      <td>False</td>\n",
       "      <td>False</td>\n",
       "      <td>False</td>\n",
       "      <td>False</td>\n",
       "      <td>False</td>\n",
       "      <td>False</td>\n",
       "      <td>False</td>\n",
       "      <td>False</td>\n",
       "      <td>False</td>\n",
       "      <td>False</td>\n",
       "      <td>False</td>\n",
       "    </tr>\n",
       "    <tr>\n",
       "      <th>4</th>\n",
       "      <td>False</td>\n",
       "      <td>False</td>\n",
       "      <td>False</td>\n",
       "      <td>False</td>\n",
       "      <td>False</td>\n",
       "      <td>False</td>\n",
       "      <td>False</td>\n",
       "      <td>False</td>\n",
       "      <td>False</td>\n",
       "      <td>False</td>\n",
       "      <td>False</td>\n",
       "      <td>False</td>\n",
       "      <td>False</td>\n",
       "    </tr>\n",
       "    <tr>\n",
       "      <th>...</th>\n",
       "      <td>...</td>\n",
       "      <td>...</td>\n",
       "      <td>...</td>\n",
       "      <td>...</td>\n",
       "      <td>...</td>\n",
       "      <td>...</td>\n",
       "      <td>...</td>\n",
       "      <td>...</td>\n",
       "      <td>...</td>\n",
       "      <td>...</td>\n",
       "      <td>...</td>\n",
       "      <td>...</td>\n",
       "      <td>...</td>\n",
       "    </tr>\n",
       "    <tr>\n",
       "      <th>8753</th>\n",
       "      <td>False</td>\n",
       "      <td>False</td>\n",
       "      <td>False</td>\n",
       "      <td>False</td>\n",
       "      <td>False</td>\n",
       "      <td>False</td>\n",
       "      <td>False</td>\n",
       "      <td>False</td>\n",
       "      <td>True</td>\n",
       "      <td>False</td>\n",
       "      <td>False</td>\n",
       "      <td>False</td>\n",
       "      <td>False</td>\n",
       "    </tr>\n",
       "    <tr>\n",
       "      <th>8754</th>\n",
       "      <td>False</td>\n",
       "      <td>False</td>\n",
       "      <td>False</td>\n",
       "      <td>False</td>\n",
       "      <td>False</td>\n",
       "      <td>False</td>\n",
       "      <td>False</td>\n",
       "      <td>False</td>\n",
       "      <td>True</td>\n",
       "      <td>False</td>\n",
       "      <td>False</td>\n",
       "      <td>False</td>\n",
       "      <td>False</td>\n",
       "    </tr>\n",
       "    <tr>\n",
       "      <th>8755</th>\n",
       "      <td>False</td>\n",
       "      <td>False</td>\n",
       "      <td>False</td>\n",
       "      <td>False</td>\n",
       "      <td>False</td>\n",
       "      <td>False</td>\n",
       "      <td>False</td>\n",
       "      <td>False</td>\n",
       "      <td>True</td>\n",
       "      <td>False</td>\n",
       "      <td>False</td>\n",
       "      <td>False</td>\n",
       "      <td>False</td>\n",
       "    </tr>\n",
       "    <tr>\n",
       "      <th>8756</th>\n",
       "      <td>False</td>\n",
       "      <td>False</td>\n",
       "      <td>False</td>\n",
       "      <td>False</td>\n",
       "      <td>False</td>\n",
       "      <td>False</td>\n",
       "      <td>False</td>\n",
       "      <td>False</td>\n",
       "      <td>True</td>\n",
       "      <td>False</td>\n",
       "      <td>False</td>\n",
       "      <td>False</td>\n",
       "      <td>False</td>\n",
       "    </tr>\n",
       "    <tr>\n",
       "      <th>8757</th>\n",
       "      <td>False</td>\n",
       "      <td>False</td>\n",
       "      <td>False</td>\n",
       "      <td>False</td>\n",
       "      <td>False</td>\n",
       "      <td>False</td>\n",
       "      <td>True</td>\n",
       "      <td>False</td>\n",
       "      <td>True</td>\n",
       "      <td>False</td>\n",
       "      <td>False</td>\n",
       "      <td>False</td>\n",
       "      <td>False</td>\n",
       "    </tr>\n",
       "  </tbody>\n",
       "</table>\n",
       "<p>8758 rows × 13 columns</p>\n",
       "</div>"
      ],
      "text/plain": [
       "       Year  Month    Day   Hour  SunlightMin  HourlySkyWeather  \\\n",
       "0     False  False  False  False        False             False   \n",
       "1     False  False  False  False        False             False   \n",
       "2     False  False  False  False        False             False   \n",
       "3     False  False  False  False        False             False   \n",
       "4     False  False  False  False        False             False   \n",
       "...     ...    ...    ...    ...          ...               ...   \n",
       "8753  False  False  False  False        False             False   \n",
       "8754  False  False  False  False        False             False   \n",
       "8755  False  False  False  False        False             False   \n",
       "8756  False  False  False  False        False             False   \n",
       "8757  False  False  False  False        False             False   \n",
       "\n",
       "      HourlyVisibility  HourlyWindDirection  HourlyWindSpeed  SunriseHour  \\\n",
       "0                False                False            False        False   \n",
       "1                False                False            False        False   \n",
       "2                False                False            False        False   \n",
       "3                False                False            False        False   \n",
       "4                False                False            False        False   \n",
       "...                ...                  ...              ...          ...   \n",
       "8753             False                False             True        False   \n",
       "8754             False                False             True        False   \n",
       "8755             False                False             True        False   \n",
       "8756             False                False             True        False   \n",
       "8757              True                False             True        False   \n",
       "\n",
       "      SunriseMin  SunsetHour  SunsetMin  \n",
       "0          False       False      False  \n",
       "1          False       False      False  \n",
       "2          False       False      False  \n",
       "3          False       False      False  \n",
       "4          False       False      False  \n",
       "...          ...         ...        ...  \n",
       "8753       False       False      False  \n",
       "8754       False       False      False  \n",
       "8755       False       False      False  \n",
       "8756       False       False      False  \n",
       "8757       False       False      False  \n",
       "\n",
       "[8758 rows x 13 columns]"
      ]
     },
     "execution_count": 85,
     "metadata": {},
     "output_type": "execute_result"
    }
   ],
   "source": [
    "df.isnull()"
   ]
  },
  {
   "cell_type": "code",
   "execution_count": 86,
   "id": "cbcd7ecf-7026-4dde-a902-69eda4190b7b",
   "metadata": {},
   "outputs": [
    {
     "data": {
      "text/plain": [
       "Year                     0\n",
       "Month                    0\n",
       "Day                      0\n",
       "Hour                     0\n",
       "SunlightMin              0\n",
       "HourlySkyWeather        16\n",
       "HourlyVisibility         1\n",
       "HourlyWindDirection      0\n",
       "HourlyWindSpeed        618\n",
       "SunriseHour              0\n",
       "SunriseMin               0\n",
       "SunsetHour               0\n",
       "SunsetMin                0\n",
       "dtype: int64"
      ]
     },
     "execution_count": 86,
     "metadata": {},
     "output_type": "execute_result"
    }
   ],
   "source": [
    "# check the null values in data\n",
    "\n",
    "df.isna().sum()"
   ]
  },
  {
   "cell_type": "code",
   "execution_count": 89,
   "id": "a51f2e41-20e6-49a8-ace0-15dd700ba07e",
   "metadata": {},
   "outputs": [
    {
     "data": {
      "text/html": [
       "<div>\n",
       "<style scoped>\n",
       "    .dataframe tbody tr th:only-of-type {\n",
       "        vertical-align: middle;\n",
       "    }\n",
       "\n",
       "    .dataframe tbody tr th {\n",
       "        vertical-align: top;\n",
       "    }\n",
       "\n",
       "    .dataframe thead th {\n",
       "        text-align: right;\n",
       "    }\n",
       "</style>\n",
       "<table border=\"1\" class=\"dataframe\">\n",
       "  <thead>\n",
       "    <tr style=\"text-align: right;\">\n",
       "      <th></th>\n",
       "      <th>Year</th>\n",
       "      <th>Month</th>\n",
       "      <th>Day</th>\n",
       "      <th>Hour</th>\n",
       "      <th>SunlightMin</th>\n",
       "      <th>HourlyVisibility</th>\n",
       "      <th>HourlyWindSpeed</th>\n",
       "      <th>SunriseHour</th>\n",
       "      <th>SunriseMin</th>\n",
       "      <th>SunsetHour</th>\n",
       "      <th>SunsetMin</th>\n",
       "    </tr>\n",
       "  </thead>\n",
       "  <tbody>\n",
       "    <tr>\n",
       "      <th>count</th>\n",
       "      <td>8758.000000</td>\n",
       "      <td>8758.000000</td>\n",
       "      <td>8758.000000</td>\n",
       "      <td>8758.000000</td>\n",
       "      <td>8758.000000</td>\n",
       "      <td>8757.000000</td>\n",
       "      <td>8140.000000</td>\n",
       "      <td>8758.000000</td>\n",
       "      <td>8758.000000</td>\n",
       "      <td>8758.000000</td>\n",
       "      <td>8758.000000</td>\n",
       "    </tr>\n",
       "    <tr>\n",
       "      <th>mean</th>\n",
       "      <td>2017.706782</td>\n",
       "      <td>6.525462</td>\n",
       "      <td>15.720712</td>\n",
       "      <td>11.498630</td>\n",
       "      <td>732.412651</td>\n",
       "      <td>8.921149</td>\n",
       "      <td>4.849509</td>\n",
       "      <td>5.353505</td>\n",
       "      <td>28.469514</td>\n",
       "      <td>17.545102</td>\n",
       "      <td>29.386390</td>\n",
       "    </tr>\n",
       "    <tr>\n",
       "      <th>std</th>\n",
       "      <td>0.455263</td>\n",
       "      <td>3.448239</td>\n",
       "      <td>8.797747</td>\n",
       "      <td>6.922774</td>\n",
       "      <td>120.662506</td>\n",
       "      <td>2.334073</td>\n",
       "      <td>3.611538</td>\n",
       "      <td>1.082291</td>\n",
       "      <td>16.300217</td>\n",
       "      <td>1.113604</td>\n",
       "      <td>15.649862</td>\n",
       "    </tr>\n",
       "    <tr>\n",
       "      <th>min</th>\n",
       "      <td>2017.000000</td>\n",
       "      <td>1.000000</td>\n",
       "      <td>1.000000</td>\n",
       "      <td>0.000000</td>\n",
       "      <td>554.000000</td>\n",
       "      <td>0.000000</td>\n",
       "      <td>0.000000</td>\n",
       "      <td>4.000000</td>\n",
       "      <td>0.000000</td>\n",
       "      <td>16.000000</td>\n",
       "      <td>0.000000</td>\n",
       "    </tr>\n",
       "    <tr>\n",
       "      <th>25%</th>\n",
       "      <td>2017.000000</td>\n",
       "      <td>4.000000</td>\n",
       "      <td>8.000000</td>\n",
       "      <td>5.250000</td>\n",
       "      <td>616.000000</td>\n",
       "      <td>10.000000</td>\n",
       "      <td>3.000000</td>\n",
       "      <td>4.000000</td>\n",
       "      <td>16.000000</td>\n",
       "      <td>17.000000</td>\n",
       "      <td>18.000000</td>\n",
       "    </tr>\n",
       "    <tr>\n",
       "      <th>50%</th>\n",
       "      <td>2018.000000</td>\n",
       "      <td>7.000000</td>\n",
       "      <td>16.000000</td>\n",
       "      <td>11.000000</td>\n",
       "      <td>734.000000</td>\n",
       "      <td>10.000000</td>\n",
       "      <td>5.000000</td>\n",
       "      <td>5.000000</td>\n",
       "      <td>27.000000</td>\n",
       "      <td>18.000000</td>\n",
       "      <td>30.000000</td>\n",
       "    </tr>\n",
       "    <tr>\n",
       "      <th>75%</th>\n",
       "      <td>2018.000000</td>\n",
       "      <td>10.000000</td>\n",
       "      <td>23.000000</td>\n",
       "      <td>17.000000</td>\n",
       "      <td>849.000000</td>\n",
       "      <td>10.000000</td>\n",
       "      <td>7.000000</td>\n",
       "      <td>6.000000</td>\n",
       "      <td>42.000000</td>\n",
       "      <td>19.000000</td>\n",
       "      <td>41.000000</td>\n",
       "    </tr>\n",
       "    <tr>\n",
       "      <th>max</th>\n",
       "      <td>2018.000000</td>\n",
       "      <td>12.000000</td>\n",
       "      <td>31.000000</td>\n",
       "      <td>23.000000</td>\n",
       "      <td>906.000000</td>\n",
       "      <td>10.000000</td>\n",
       "      <td>21.000000</td>\n",
       "      <td>7.000000</td>\n",
       "      <td>59.000000</td>\n",
       "      <td>19.000000</td>\n",
       "      <td>59.000000</td>\n",
       "    </tr>\n",
       "  </tbody>\n",
       "</table>\n",
       "</div>"
      ],
      "text/plain": [
       "              Year        Month          Day         Hour  SunlightMin  \\\n",
       "count  8758.000000  8758.000000  8758.000000  8758.000000  8758.000000   \n",
       "mean   2017.706782     6.525462    15.720712    11.498630   732.412651   \n",
       "std       0.455263     3.448239     8.797747     6.922774   120.662506   \n",
       "min    2017.000000     1.000000     1.000000     0.000000   554.000000   \n",
       "25%    2017.000000     4.000000     8.000000     5.250000   616.000000   \n",
       "50%    2018.000000     7.000000    16.000000    11.000000   734.000000   \n",
       "75%    2018.000000    10.000000    23.000000    17.000000   849.000000   \n",
       "max    2018.000000    12.000000    31.000000    23.000000   906.000000   \n",
       "\n",
       "       HourlyVisibility  HourlyWindSpeed  SunriseHour   SunriseMin  \\\n",
       "count       8757.000000      8140.000000  8758.000000  8758.000000   \n",
       "mean           8.921149         4.849509     5.353505    28.469514   \n",
       "std            2.334073         3.611538     1.082291    16.300217   \n",
       "min            0.000000         0.000000     4.000000     0.000000   \n",
       "25%           10.000000         3.000000     4.000000    16.000000   \n",
       "50%           10.000000         5.000000     5.000000    27.000000   \n",
       "75%           10.000000         7.000000     6.000000    42.000000   \n",
       "max           10.000000        21.000000     7.000000    59.000000   \n",
       "\n",
       "        SunsetHour    SunsetMin  \n",
       "count  8758.000000  8758.000000  \n",
       "mean     17.545102    29.386390  \n",
       "std       1.113604    15.649862  \n",
       "min      16.000000     0.000000  \n",
       "25%      17.000000    18.000000  \n",
       "50%      18.000000    30.000000  \n",
       "75%      19.000000    41.000000  \n",
       "max      19.000000    59.000000  "
      ]
     },
     "execution_count": 89,
     "metadata": {},
     "output_type": "execute_result"
    }
   ],
   "source": [
    "df.describe()"
   ]
  },
  {
   "cell_type": "markdown",
   "id": "338c18e6-f813-4190-a133-92f2c6017781",
   "metadata": {},
   "source": [
    "# Matplotlib"
   ]
  },
  {
   "cell_type": "code",
   "execution_count": 92,
   "id": "65e95d5b-4e71-4e7e-99be-9283851dff6f",
   "metadata": {},
   "outputs": [],
   "source": [
    "# import the library\n",
    "\n",
    "import matplotlib.pyplot as plt\n",
    "%matplotlib inline\n",
    "import pandas as pd\n",
    "import numpy as np"
   ]
  },
  {
   "cell_type": "code",
   "execution_count": 98,
   "id": "4472de36-f295-40f6-b92d-9dd5c3b27210",
   "metadata": {},
   "outputs": [],
   "source": [
    "x = np.linspace(0,10,1000)"
   ]
  },
  {
   "cell_type": "code",
   "execution_count": 99,
   "id": "c1d077a3-ceac-4aab-8207-8ab0774fb77b",
   "metadata": {},
   "outputs": [
    {
     "data": {
      "text/plain": [
       "[<matplotlib.lines.Line2D at 0x1368721d0>]"
      ]
     },
     "execution_count": 99,
     "metadata": {},
     "output_type": "execute_result"
    },
    {
     "data": {
      "image/png": "[encoded data removed]",
      "text/plain": [
       "<Figure size 640x480 with 1 Axes>"
      ]
     },
     "metadata": {},
     "output_type": "display_data"
    }
   ],
   "source": [
    "# Line Plot\n",
    "\n",
    "plt.plot(x,np.cos(x),label = 'Cosine')"
   ]
  },
  {
   "cell_type": "code",
   "execution_count": 101,
   "id": "53d3589d-40d8-41e4-9126-6875cc6a860e",
   "metadata": {},
   "outputs": [
    {
     "data": {
      "text/plain": [
       "<Axes: >"
      ]
     },
     "execution_count": 101,
     "metadata": {},
     "output_type": "execute_result"
    },
    {
     "data": {
      "image/png": "[encoded data removed]",
      "text/plain": [
       "<Figure size 640x480 with 1 Axes>"
      ]
     },
     "metadata": {},
     "output_type": "display_data"
    }
   ],
   "source": [
    "# Bar plot\n",
    "\n",
    "df = pd.DataFrame([\n",
    "    [1,2],\n",
    "    [3,4],\n",
    "    [5,6],\n",
    "    [7,8],\n",
    "    [9,10]\n",
    "])\n",
    "df.plot(kind = 'bar',stacked = True)\n"
   ]
  },
  {
   "cell_type": "markdown",
   "id": "b59758eb-6fe7-45f2-8493-d45c5b1eb105",
   "metadata": {},
   "source": [
    "# Seaborn"
   ]
  },
  {
   "cell_type": "code",
   "execution_count": 103,
   "id": "41fe8120-40b6-40fc-bdb8-9c7c32da2baf",
   "metadata": {},
   "outputs": [],
   "source": [
    "#importing the library\n",
    "\n",
    "import seaborn as sns"
   ]
  },
  {
   "cell_type": "code",
   "execution_count": 104,
   "id": "55914e3e-02b0-4c7e-9d5e-21ff44b08aff",
   "metadata": {},
   "outputs": [
    {
     "data": {
      "text/html": [
       "<div>\n",
       "<style scoped>\n",
       "    .dataframe tbody tr th:only-of-type {\n",
       "        vertical-align: middle;\n",
       "    }\n",
       "\n",
       "    .dataframe tbody tr th {\n",
       "        vertical-align: top;\n",
       "    }\n",
       "\n",
       "    .dataframe thead th {\n",
       "        text-align: right;\n",
       "    }\n",
       "</style>\n",
       "<table border=\"1\" class=\"dataframe\">\n",
       "  <thead>\n",
       "    <tr style=\"text-align: right;\">\n",
       "      <th></th>\n",
       "      <th>x</th>\n",
       "      <th>y</th>\n",
       "    </tr>\n",
       "  </thead>\n",
       "  <tbody>\n",
       "    <tr>\n",
       "      <th>0</th>\n",
       "      <td>-2.013850</td>\n",
       "      <td>-1.176148</td>\n",
       "    </tr>\n",
       "    <tr>\n",
       "      <th>1</th>\n",
       "      <td>0.042516</td>\n",
       "      <td>0.480321</td>\n",
       "    </tr>\n",
       "    <tr>\n",
       "      <th>2</th>\n",
       "      <td>-0.965955</td>\n",
       "      <td>1.142950</td>\n",
       "    </tr>\n",
       "    <tr>\n",
       "      <th>3</th>\n",
       "      <td>-1.721765</td>\n",
       "      <td>-0.724846</td>\n",
       "    </tr>\n",
       "    <tr>\n",
       "      <th>4</th>\n",
       "      <td>-1.121679</td>\n",
       "      <td>-0.187780</td>\n",
       "    </tr>\n",
       "    <tr>\n",
       "      <th>...</th>\n",
       "      <td>...</td>\n",
       "      <td>...</td>\n",
       "    </tr>\n",
       "    <tr>\n",
       "      <th>1995</th>\n",
       "      <td>-3.885146</td>\n",
       "      <td>-1.976754</td>\n",
       "    </tr>\n",
       "    <tr>\n",
       "      <th>1996</th>\n",
       "      <td>-3.091731</td>\n",
       "      <td>-2.454606</td>\n",
       "    </tr>\n",
       "    <tr>\n",
       "      <th>1997</th>\n",
       "      <td>-2.168308</td>\n",
       "      <td>0.977165</td>\n",
       "    </tr>\n",
       "    <tr>\n",
       "      <th>1998</th>\n",
       "      <td>-1.102165</td>\n",
       "      <td>0.719504</td>\n",
       "    </tr>\n",
       "    <tr>\n",
       "      <th>1999</th>\n",
       "      <td>3.492254</td>\n",
       "      <td>2.536728</td>\n",
       "    </tr>\n",
       "  </tbody>\n",
       "</table>\n",
       "<p>2000 rows × 2 columns</p>\n",
       "</div>"
      ],
      "text/plain": [
       "             x         y\n",
       "0    -2.013850 -1.176148\n",
       "1     0.042516  0.480321\n",
       "2    -0.965955  1.142950\n",
       "3    -1.721765 -0.724846\n",
       "4    -1.121679 -0.187780\n",
       "...        ...       ...\n",
       "1995 -3.885146 -1.976754\n",
       "1996 -3.091731 -2.454606\n",
       "1997 -2.168308  0.977165\n",
       "1998 -1.102165  0.719504\n",
       "1999  3.492254  2.536728\n",
       "\n",
       "[2000 rows x 2 columns]"
      ]
     },
     "execution_count": 104,
     "metadata": {},
     "output_type": "execute_result"
    }
   ],
   "source": [
    "# create random data\n",
    "\n",
    "data = np.random.multivariate_normal([0,0],[[5,2], [2,2]], size = 2000)\n",
    "data = pd.DataFrame(data, columns = ['x','y'])\n",
    "data"
   ]
  },
  {
   "cell_type": "code",
   "execution_count": 108,
   "id": "7f069200-46ff-4302-953a-70fb2145c808",
   "metadata": {},
   "outputs": [
    {
     "name": "stderr",
     "output_type": "stream",
     "text": [
      "/opt/anaconda3/lib/python3.11/site-packages/seaborn/_oldcore.py:1119: FutureWarning: use_inf_as_na option is deprecated and will be removed in a future version. Convert inf values to NaN before operating instead.\n",
      "  with pd.option_context('mode.use_inf_as_na', True):\n",
      "/opt/anaconda3/lib/python3.11/site-packages/seaborn/_oldcore.py:1119: FutureWarning: use_inf_as_na option is deprecated and will be removed in a future version. Convert inf values to NaN before operating instead.\n",
      "  with pd.option_context('mode.use_inf_as_na', True):\n"
     ]
    },
    {
     "data": {
      "image/png": "[encoded data removed]",
      "text/plain": [
       "<Figure size 640x480 with 1 Axes>"
      ]
     },
     "metadata": {},
     "output_type": "display_data"
    }
   ],
   "source": [
    "# density plot\n",
    "\n",
    "for col in 'xy':\n",
    "    sns.kdeplot(data[col], fill = True)"
   ]
  },
  {
   "cell_type": "code",
   "execution_count": 115,
   "id": "3070bfec-a7b0-4b6b-b507-d77eb27fcd80",
   "metadata": {},
   "outputs": [
    {
     "name": "stderr",
     "output_type": "stream",
     "text": [
      "/opt/anaconda3/lib/python3.11/site-packages/seaborn/_oldcore.py:1119: FutureWarning: use_inf_as_na option is deprecated and will be removed in a future version. Convert inf values to NaN before operating instead.\n",
      "  with pd.option_context('mode.use_inf_as_na', True):\n",
      "/opt/anaconda3/lib/python3.11/site-packages/seaborn/_oldcore.py:1119: FutureWarning: use_inf_as_na option is deprecated and will be removed in a future version. Convert inf values to NaN before operating instead.\n",
      "  with pd.option_context('mode.use_inf_as_na', True):\n"
     ]
    },
    {
     "data": {
      "image/png": "[encoded data removed]",
      "text/plain": [
       "<Figure size 640x480 with 1 Axes>"
      ]
     },
     "metadata": {},
     "output_type": "display_data"
    }
   ],
   "source": [
    "for col in 'xy':\n",
    "    sns.histplot(data[col] , kde = False)"
   ]
  },
  {
   "cell_type": "code",
   "execution_count": 116,
   "id": "a39f0643-4dac-4eeb-8f61-30e03777dbf8",
   "metadata": {},
   "outputs": [],
   "source": [
    "# Pair plot"
   ]
  },
  {
   "cell_type": "code",
   "execution_count": null,
   "id": "14429d40-7a44-4c97-88a3-8afd5062000c",
   "metadata": {},
   "outputs": [],
   "source": [
    "sns.pairplot(iris, hue = 'species', height = 2.5)"
   ]
  },
  {
   "cell_type": "markdown",
   "id": "33a5b8f4-f6a7-41dd-bad4-5a150048a335",
   "metadata": {},
   "source": [
    "# Scikit-learn\n",
    "- used for preprocessing\n",
    "- model nuilding\n",
    "- automating the process\n",
    "  "
   ]
  },
  {
   "cell_type": "code",
   "execution_count": 117,
   "id": "9000ce0f-fcc5-43c8-8a98-ca9ab8760166",
   "metadata": {},
   "outputs": [],
   "source": [
    "# import the library\n",
    "\n",
    "import sklearn"
   ]
  },
  {
   "cell_type": "code",
   "execution_count": 118,
   "id": "4f7c4251-f48a-48f1-b38c-95c10bd28b42",
   "metadata": {},
   "outputs": [
    {
     "data": {
      "text/plain": [
       "'1.2.2'"
      ]
     },
     "execution_count": 118,
     "metadata": {},
     "output_type": "execute_result"
    }
   ],
   "source": [
    "sklearn.__version__"
   ]
  },
  {
   "cell_type": "code",
   "execution_count": 119,
   "id": "2c3d4fb1-9963-46d9-a7a1-ffdd70a8cd80",
   "metadata": {},
   "outputs": [
    {
     "data": {
      "text/html": [
       "<div>\n",
       "<style scoped>\n",
       "    .dataframe tbody tr th:only-of-type {\n",
       "        vertical-align: middle;\n",
       "    }\n",
       "\n",
       "    .dataframe tbody tr th {\n",
       "        vertical-align: top;\n",
       "    }\n",
       "\n",
       "    .dataframe thead th {\n",
       "        text-align: right;\n",
       "    }\n",
       "</style>\n",
       "<table border=\"1\" class=\"dataframe\">\n",
       "  <thead>\n",
       "    <tr style=\"text-align: right;\">\n",
       "      <th></th>\n",
       "      <th>0</th>\n",
       "      <th>1</th>\n",
       "    </tr>\n",
       "  </thead>\n",
       "  <tbody>\n",
       "    <tr>\n",
       "      <th>0</th>\n",
       "      <td>1</td>\n",
       "      <td>2</td>\n",
       "    </tr>\n",
       "    <tr>\n",
       "      <th>1</th>\n",
       "      <td>3</td>\n",
       "      <td>4</td>\n",
       "    </tr>\n",
       "    <tr>\n",
       "      <th>2</th>\n",
       "      <td>5</td>\n",
       "      <td>6</td>\n",
       "    </tr>\n",
       "    <tr>\n",
       "      <th>3</th>\n",
       "      <td>7</td>\n",
       "      <td>8</td>\n",
       "    </tr>\n",
       "    <tr>\n",
       "      <th>4</th>\n",
       "      <td>9</td>\n",
       "      <td>10</td>\n",
       "    </tr>\n",
       "  </tbody>\n",
       "</table>\n",
       "</div>"
      ],
      "text/plain": [
       "   0   1\n",
       "0  1   2\n",
       "1  3   4\n",
       "2  5   6\n",
       "3  7   8\n",
       "4  9  10"
      ]
     },
     "execution_count": 119,
     "metadata": {},
     "output_type": "execute_result"
    }
   ],
   "source": []
  },
  {
   "cell_type": "code",
   "execution_count": 121,
   "id": "d31cbde1-0ec4-4b3b-a0a4-4541fb2dcab4",
   "metadata": {},
   "outputs": [
    {
     "data": {
      "text/plain": [
       "Year                     0\n",
       "Month                    0\n",
       "Day                      0\n",
       "Hour                     0\n",
       "SunlightMin              0\n",
       "HourlySkyWeather        16\n",
       "HourlyVisibility         1\n",
       "HourlyWindDirection      0\n",
       "HourlyWindSpeed        618\n",
       "SunriseHour              0\n",
       "SunriseMin               0\n",
       "SunsetHour               0\n",
       "SunsetMin                0\n",
       "dtype: int64"
      ]
     },
     "execution_count": 121,
     "metadata": {},
     "output_type": "execute_result"
    }
   ],
   "source": [
    "df = pd.read_csv('weatherData.csv')\n",
    "df.isnull().sum()"
   ]
  },
  {
   "cell_type": "code",
   "execution_count": 123,
   "id": "a55a201c-0ecf-43b8-a775-4092cf71c413",
   "metadata": {},
   "outputs": [],
   "source": [
    "# to fill the empty values we use simple Imputer for item weight and item size\n",
    "\n",
    "from sklearn.impute import SimpleImputer"
   ]
  },
  {
   "cell_type": "code",
   "execution_count": 127,
   "id": "e1ebe207-503c-45ef-aa03-4e36d0991a4b",
   "metadata": {},
   "outputs": [],
   "source": [
    "Hourly_WindSpeed = SimpleImputer(strategy= 'mean')\n",
    "Hourly_SkyWeather = SimpleImputer(strategy= 'most_frequent')"
   ]
  },
  {
   "cell_type": "code",
   "execution_count": 133,
   "id": "6f83465a-acfb-480d-823b-02947ed91aa0",
   "metadata": {},
   "outputs": [],
   "source": [
    "# fit it with the data and transform it\n",
    "\n",
    "Hourly_WindSpeed.fit(df[['HourlyWindSpeed']])\n",
    "df.HourlyWindSpeed = Hourly_WindSpeed.transform(df[['HourlyWindSpeed']])"
   ]
  },
  {
   "cell_type": "code",
   "execution_count": 134,
   "id": "11083b54-3ddb-4d45-9e3e-7561c06f8fcb",
   "metadata": {},
   "outputs": [
    {
     "data": {
      "text/plain": [
       "Year                    0\n",
       "Month                   0\n",
       "Day                     0\n",
       "Hour                    0\n",
       "SunlightMin             0\n",
       "HourlySkyWeather       16\n",
       "HourlyVisibility        1\n",
       "HourlyWindDirection     0\n",
       "HourlyWindSpeed         0\n",
       "SunriseHour             0\n",
       "SunriseMin              0\n",
       "SunsetHour              0\n",
       "SunsetMin               0\n",
       "dtype: int64"
      ]
     },
     "execution_count": 134,
     "metadata": {},
     "output_type": "execute_result"
    }
   ],
   "source": [
    "df.isnull().sum()"
   ]
  },
  {
   "cell_type": "code",
   "execution_count": 135,
   "id": "04b5b2b0-fefd-453e-aa7d-c0b96bca6212",
   "metadata": {},
   "outputs": [],
   "source": [
    "# all the models we will use this library"
   ]
  },
  {
   "cell_type": "markdown",
   "id": "b9954b33-30dd-4f4d-8953-af73ed675968",
   "metadata": {},
   "source": [
    "# Stats model"
   ]
  },
  {
   "cell_type": "code",
   "execution_count": 137,
   "id": "aafe7255-4ea3-4c6b-8280-0ced78d9292e",
   "metadata": {},
   "outputs": [],
   "source": [
    "# importing the libraries\n",
    "\n",
    "import statsmodels"
   ]
  },
  {
   "cell_type": "code",
   "execution_count": 139,
   "id": "c59a1583-c525-49ba-b558-07be3522212e",
   "metadata": {},
   "outputs": [
    {
     "data": {
      "text/plain": [
       "'0.14.0'"
      ]
     },
     "execution_count": 139,
     "metadata": {},
     "output_type": "execute_result"
    }
   ],
   "source": [
    "statsmodels.__version__"
   ]
  },
  {
   "cell_type": "code",
   "execution_count": 148,
   "id": "0af94312-bbea-43c0-8093-e7132d7648f0",
   "metadata": {},
   "outputs": [],
   "source": [
    "#importing other required libraries\n",
    "\n",
    "import statsmodels.api as sm\n",
    "from sklearn.datasets import fetch_openml\n",
    "import numpy as np\n",
    "import pandas as pd"
   ]
  },
  {
   "cell_type": "code",
   "execution_count": 150,
   "id": "16362da9-64da-46ff-bedf-f6a4a0238cc7",
   "metadata": {},
   "outputs": [
    {
     "name": "stderr",
     "output_type": "stream",
     "text": [
      "/opt/anaconda3/lib/python3.11/site-packages/sklearn/datasets/_openml.py:968: FutureWarning: The default value of `parser` will change from `'liac-arff'` to `'auto'` in 1.4. You can set `parser='auto'` to silence this warning. Therefore, an `ImportError` will be raised from 1.4 if the dataset is dense and pandas is not installed. Note that the pandas parser may return different data types. See the Notes Section in fetch_openml's API doc for details.\n",
      "  warn(\n"
     ]
    }
   ],
   "source": [
    "# Load boston dataset\n",
    "\n",
    "data = fetch_openml(name = 'boston',version = 1)"
   ]
  },
  {
   "cell_type": "code",
   "execution_count": 158,
   "id": "10f935d4-709b-4ffb-86fc-955efc214af6",
   "metadata": {},
   "outputs": [],
   "source": [
    "# creatig the dataframe\n",
    "\n",
    "features = pd.DataFrame(data.data, columns = data.feature_names)"
   ]
  },
  {
   "cell_type": "code",
   "execution_count": 159,
   "id": "9356739b-c8b8-4de0-9a6c-de743c85eee7",
   "metadata": {},
   "outputs": [
    {
     "data": {
      "text/html": [
       "<div>\n",
       "<style scoped>\n",
       "    .dataframe tbody tr th:only-of-type {\n",
       "        vertical-align: middle;\n",
       "    }\n",
       "\n",
       "    .dataframe tbody tr th {\n",
       "        vertical-align: top;\n",
       "    }\n",
       "\n",
       "    .dataframe thead th {\n",
       "        text-align: right;\n",
       "    }\n",
       "</style>\n",
       "<table border=\"1\" class=\"dataframe\">\n",
       "  <thead>\n",
       "    <tr style=\"text-align: right;\">\n",
       "      <th></th>\n",
       "      <th>CRIM</th>\n",
       "      <th>ZN</th>\n",
       "      <th>INDUS</th>\n",
       "      <th>CHAS</th>\n",
       "      <th>NOX</th>\n",
       "      <th>RM</th>\n",
       "      <th>AGE</th>\n",
       "      <th>DIS</th>\n",
       "      <th>RAD</th>\n",
       "      <th>TAX</th>\n",
       "      <th>PTRATIO</th>\n",
       "      <th>B</th>\n",
       "      <th>LSTAT</th>\n",
       "    </tr>\n",
       "  </thead>\n",
       "  <tbody>\n",
       "    <tr>\n",
       "      <th>0</th>\n",
       "      <td>0.00632</td>\n",
       "      <td>18.0</td>\n",
       "      <td>2.31</td>\n",
       "      <td>0</td>\n",
       "      <td>0.538</td>\n",
       "      <td>6.575</td>\n",
       "      <td>65.2</td>\n",
       "      <td>4.0900</td>\n",
       "      <td>1</td>\n",
       "      <td>296.0</td>\n",
       "      <td>15.3</td>\n",
       "      <td>396.90</td>\n",
       "      <td>4.98</td>\n",
       "    </tr>\n",
       "    <tr>\n",
       "      <th>1</th>\n",
       "      <td>0.02731</td>\n",
       "      <td>0.0</td>\n",
       "      <td>7.07</td>\n",
       "      <td>0</td>\n",
       "      <td>0.469</td>\n",
       "      <td>6.421</td>\n",
       "      <td>78.9</td>\n",
       "      <td>4.9671</td>\n",
       "      <td>2</td>\n",
       "      <td>242.0</td>\n",
       "      <td>17.8</td>\n",
       "      <td>396.90</td>\n",
       "      <td>9.14</td>\n",
       "    </tr>\n",
       "    <tr>\n",
       "      <th>2</th>\n",
       "      <td>0.02729</td>\n",
       "      <td>0.0</td>\n",
       "      <td>7.07</td>\n",
       "      <td>0</td>\n",
       "      <td>0.469</td>\n",
       "      <td>7.185</td>\n",
       "      <td>61.1</td>\n",
       "      <td>4.9671</td>\n",
       "      <td>2</td>\n",
       "      <td>242.0</td>\n",
       "      <td>17.8</td>\n",
       "      <td>392.83</td>\n",
       "      <td>4.03</td>\n",
       "    </tr>\n",
       "    <tr>\n",
       "      <th>3</th>\n",
       "      <td>0.03237</td>\n",
       "      <td>0.0</td>\n",
       "      <td>2.18</td>\n",
       "      <td>0</td>\n",
       "      <td>0.458</td>\n",
       "      <td>6.998</td>\n",
       "      <td>45.8</td>\n",
       "      <td>6.0622</td>\n",
       "      <td>3</td>\n",
       "      <td>222.0</td>\n",
       "      <td>18.7</td>\n",
       "      <td>394.63</td>\n",
       "      <td>2.94</td>\n",
       "    </tr>\n",
       "    <tr>\n",
       "      <th>4</th>\n",
       "      <td>0.06905</td>\n",
       "      <td>0.0</td>\n",
       "      <td>2.18</td>\n",
       "      <td>0</td>\n",
       "      <td>0.458</td>\n",
       "      <td>7.147</td>\n",
       "      <td>54.2</td>\n",
       "      <td>6.0622</td>\n",
       "      <td>3</td>\n",
       "      <td>222.0</td>\n",
       "      <td>18.7</td>\n",
       "      <td>396.90</td>\n",
       "      <td>5.33</td>\n",
       "    </tr>\n",
       "  </tbody>\n",
       "</table>\n",
       "</div>"
      ],
      "text/plain": [
       "      CRIM    ZN  INDUS CHAS    NOX     RM   AGE     DIS RAD    TAX  PTRATIO  \\\n",
       "0  0.00632  18.0   2.31    0  0.538  6.575  65.2  4.0900   1  296.0     15.3   \n",
       "1  0.02731   0.0   7.07    0  0.469  6.421  78.9  4.9671   2  242.0     17.8   \n",
       "2  0.02729   0.0   7.07    0  0.469  7.185  61.1  4.9671   2  242.0     17.8   \n",
       "3  0.03237   0.0   2.18    0  0.458  6.998  45.8  6.0622   3  222.0     18.7   \n",
       "4  0.06905   0.0   2.18    0  0.458  7.147  54.2  6.0622   3  222.0     18.7   \n",
       "\n",
       "        B  LSTAT  \n",
       "0  396.90   4.98  \n",
       "1  396.90   9.14  \n",
       "2  392.83   4.03  \n",
       "3  394.63   2.94  \n",
       "4  396.90   5.33  "
      ]
     },
     "execution_count": 159,
     "metadata": {},
     "output_type": "execute_result"
    }
   ],
   "source": [
    "features.head()"
   ]
  },
  {
   "cell_type": "code",
   "execution_count": 160,
   "id": "fff3ce8f-c457-4d17-9c36-adcc5045e57c",
   "metadata": {},
   "outputs": [
    {
     "data": {
      "text/html": [
       "<div>\n",
       "<style scoped>\n",
       "    .dataframe tbody tr th:only-of-type {\n",
       "        vertical-align: middle;\n",
       "    }\n",
       "\n",
       "    .dataframe tbody tr th {\n",
       "        vertical-align: top;\n",
       "    }\n",
       "\n",
       "    .dataframe thead th {\n",
       "        text-align: right;\n",
       "    }\n",
       "</style>\n",
       "<table border=\"1\" class=\"dataframe\">\n",
       "  <thead>\n",
       "    <tr style=\"text-align: right;\">\n",
       "      <th></th>\n",
       "      <th>MEDV</th>\n",
       "    </tr>\n",
       "  </thead>\n",
       "  <tbody>\n",
       "    <tr>\n",
       "      <th>0</th>\n",
       "      <td>24.0</td>\n",
       "    </tr>\n",
       "    <tr>\n",
       "      <th>1</th>\n",
       "      <td>21.6</td>\n",
       "    </tr>\n",
       "    <tr>\n",
       "      <th>2</th>\n",
       "      <td>34.7</td>\n",
       "    </tr>\n",
       "    <tr>\n",
       "      <th>3</th>\n",
       "      <td>33.4</td>\n",
       "    </tr>\n",
       "    <tr>\n",
       "      <th>4</th>\n",
       "      <td>36.2</td>\n",
       "    </tr>\n",
       "    <tr>\n",
       "      <th>...</th>\n",
       "      <td>...</td>\n",
       "    </tr>\n",
       "    <tr>\n",
       "      <th>501</th>\n",
       "      <td>22.4</td>\n",
       "    </tr>\n",
       "    <tr>\n",
       "      <th>502</th>\n",
       "      <td>20.6</td>\n",
       "    </tr>\n",
       "    <tr>\n",
       "      <th>503</th>\n",
       "      <td>23.9</td>\n",
       "    </tr>\n",
       "    <tr>\n",
       "      <th>504</th>\n",
       "      <td>22.0</td>\n",
       "    </tr>\n",
       "    <tr>\n",
       "      <th>505</th>\n",
       "      <td>11.9</td>\n",
       "    </tr>\n",
       "  </tbody>\n",
       "</table>\n",
       "<p>506 rows × 1 columns</p>\n",
       "</div>"
      ],
      "text/plain": [
       "     MEDV\n",
       "0    24.0\n",
       "1    21.6\n",
       "2    34.7\n",
       "3    33.4\n",
       "4    36.2\n",
       "..    ...\n",
       "501  22.4\n",
       "502  20.6\n",
       "503  23.9\n",
       "504  22.0\n",
       "505  11.9\n",
       "\n",
       "[506 rows x 1 columns]"
      ]
     },
     "execution_count": 160,
     "metadata": {},
     "output_type": "execute_result"
    }
   ],
   "source": [
    "# Seperate the target variable\n",
    "\n",
    "target = pd.DataFrame(data.target, columns = ['MEDV'])\n",
    "target"
   ]
  },
  {
   "cell_type": "code",
   "execution_count": 164,
   "id": "7c41cf57-f059-4bcb-9c25-fd615b51dd2d",
   "metadata": {},
   "outputs": [],
   "source": [
    "features = features.apply(pd.to_numeric, errors='coerce')\n",
    "target = target.apply(pd.to_numeric, errors='coerce')"
   ]
  },
  {
   "cell_type": "code",
   "execution_count": 170,
   "id": "fcee49d4-47ff-4b1b-96ca-6fa6b7ee19c7",
   "metadata": {},
   "outputs": [],
   "source": [
    "# Creating Linear Regression model\n",
    "\n",
    "x = features\n",
    "y = target['MEDV']\n",
    "x = sm.add_constant(x)"
   ]
  },
  {
   "cell_type": "code",
   "execution_count": 171,
   "id": "feafe9f4-90e5-4848-8c6e-2beb0dbf7de0",
   "metadata": {},
   "outputs": [],
   "source": [
    "# Building the model\n",
    "\n",
    "model = sm.OLS(x,y).fit()"
   ]
  },
  {
   "cell_type": "code",
   "execution_count": null,
   "id": "d20c449a-adbf-4f5b-9907-bb5713f342d5",
   "metadata": {},
   "outputs": [],
   "source": [
    "# make prediction\n",
    "\n",
    "predictions = model.predict(x)\n",
    "predictions"
   ]
  },
  {
   "cell_type": "code",
   "execution_count": null,
   "id": "a820becf-ee93-43b2-a353-1f9f5c8fac8c",
   "metadata": {},
   "outputs": [],
   "source": [
    "model.summary()"
   ]
  },
  {
   "cell_type": "code",
   "execution_count": 174,
   "id": "004c34e5-98e7-44c1-b90b-a3a68292a146",
   "metadata": {},
   "outputs": [
    {
     "name": "stdout",
     "output_type": "stream",
     "text": [
      "                            OLS Regression Results                            \n",
      "==============================================================================\n",
      "Dep. Variable:                   MEDV   R-squared:                       0.741\n",
      "Model:                            OLS   Adj. R-squared:                  0.734\n",
      "Method:                 Least Squares   F-statistic:                     108.1\n",
      "Date:                Tue, 02 Jul 2024   Prob (F-statistic):          6.72e-135\n",
      "Time:                        22:49:40   Log-Likelihood:                -1498.8\n",
      "No. Observations:                 506   AIC:                             3026.\n",
      "Df Residuals:                     492   BIC:                             3085.\n",
      "Df Model:                          13                                         \n",
      "Covariance Type:            nonrobust                                         \n",
      "==============================================================================\n",
      "                 coef    std err          t      P>|t|      [0.025      0.975]\n",
      "------------------------------------------------------------------------------\n",
      "const         36.4595      5.103      7.144      0.000      26.432      46.487\n",
      "CRIM          -0.1080      0.033     -3.287      0.001      -0.173      -0.043\n",
      "ZN             0.0464      0.014      3.382      0.001       0.019       0.073\n",
      "INDUS          0.0206      0.061      0.334      0.738      -0.100       0.141\n",
      "CHAS           2.6867      0.862      3.118      0.002       0.994       4.380\n",
      "NOX          -17.7666      3.820     -4.651      0.000     -25.272     -10.262\n",
      "RM             3.8099      0.418      9.116      0.000       2.989       4.631\n",
      "AGE            0.0007      0.013      0.052      0.958      -0.025       0.027\n",
      "DIS           -1.4756      0.199     -7.398      0.000      -1.867      -1.084\n",
      "RAD            0.3060      0.066      4.613      0.000       0.176       0.436\n",
      "TAX           -0.0123      0.004     -3.280      0.001      -0.020      -0.005\n",
      "PTRATIO       -0.9527      0.131     -7.283      0.000      -1.210      -0.696\n",
      "B              0.0093      0.003      3.467      0.001       0.004       0.015\n",
      "LSTAT         -0.5248      0.051    -10.347      0.000      -0.624      -0.425\n",
      "==============================================================================\n",
      "Omnibus:                      178.041   Durbin-Watson:                   1.078\n",
      "Prob(Omnibus):                  0.000   Jarque-Bera (JB):              783.126\n",
      "Skew:                           1.521   Prob(JB):                    8.84e-171\n",
      "Kurtosis:                       8.281   Cond. No.                     1.51e+04\n",
      "==============================================================================\n",
      "\n",
      "Notes:\n",
      "[1] Standard Errors assume that the covariance matrix of the errors is correctly specified.\n",
      "[2] The condition number is large, 1.51e+04. This might indicate that there are\n",
      "strong multicollinearity or other numerical problems.\n",
      "0      30.003843\n",
      "1      25.025562\n",
      "2      30.567597\n",
      "3      28.607036\n",
      "4      27.943524\n",
      "         ...    \n",
      "501    23.533341\n",
      "502    22.375719\n",
      "503    27.627426\n",
      "504    26.127967\n",
      "505    22.344212\n",
      "Length: 506, dtype: float64\n"
     ]
    },
    {
     "name": "stderr",
     "output_type": "stream",
     "text": [
      "/opt/anaconda3/lib/python3.11/site-packages/sklearn/datasets/_openml.py:968: FutureWarning: The default value of `parser` will change from `'liac-arff'` to `'auto'` in 1.4. You can set `parser='auto'` to silence this warning. Therefore, an `ImportError` will be raised from 1.4 if the dataset is dense and pandas is not installed. Note that the pandas parser may return different data types. See the Notes Section in fetch_openml's API doc for details.\n",
      "  warn(\n"
     ]
    }
   ],
   "source": [
    "import statsmodels.api as sm\n",
    "from sklearn.datasets import fetch_openml\n",
    "import numpy as np\n",
    "import pandas as pd\n",
    "\n",
    "# Load Boston dataset\n",
    "data = fetch_openml(name='boston', version=1)\n",
    "\n",
    "# Creating the dataframe\n",
    "features = pd.DataFrame(data.data, columns=data.feature_names)\n",
    "target = pd.DataFrame(data.target, columns=['MEDV'])\n",
    "\n",
    "# Check data types and convert if necessary\n",
    "features = features.apply(pd.to_numeric, errors='coerce')\n",
    "target = target.apply(pd.to_numeric, errors='coerce')\n",
    "\n",
    "# Creating Linear Regression model\n",
    "x = features\n",
    "y = target['MEDV']\n",
    "\n",
    "# Add a constant to the model (intercept)\n",
    "x = sm.add_constant(x)\n",
    "\n",
    "# Building the model\n",
    "model = sm.OLS(y, x).fit()\n",
    "\n",
    "# Summary of the model\n",
    "print(model.summary())\n",
    "\n",
    "# Make predictions\n",
    "predictions = model.predict(x)\n",
    "print(predictions)\n"
   ]
  },
  {
   "cell_type": "markdown",
   "id": "aca34716-ff26-4f8e-b727-c129bf98d9fc",
   "metadata": {},
   "source": [
    "# Reading data in Python"
   ]
  },
  {
   "cell_type": "code",
   "execution_count": 179,
   "id": "caf627ad-712d-47e6-b5d4-c2e7acacffe2",
   "metadata": {},
   "outputs": [],
   "source": [
    "df = pd.read_csv('weatherData.csv')"
   ]
  },
  {
   "cell_type": "code",
   "execution_count": 180,
   "id": "c81bb81f-ae70-41fe-83e4-a4b875ff2ce9",
   "metadata": {},
   "outputs": [
    {
     "data": {
      "text/html": [
       "<div>\n",
       "<style scoped>\n",
       "    .dataframe tbody tr th:only-of-type {\n",
       "        vertical-align: middle;\n",
       "    }\n",
       "\n",
       "    .dataframe tbody tr th {\n",
       "        vertical-align: top;\n",
       "    }\n",
       "\n",
       "    .dataframe thead th {\n",
       "        text-align: right;\n",
       "    }\n",
       "</style>\n",
       "<table border=\"1\" class=\"dataframe\">\n",
       "  <thead>\n",
       "    <tr style=\"text-align: right;\">\n",
       "      <th></th>\n",
       "      <th>Year</th>\n",
       "      <th>Month</th>\n",
       "      <th>Day</th>\n",
       "      <th>Hour</th>\n",
       "      <th>SunlightMin</th>\n",
       "      <th>HourlySkyWeather</th>\n",
       "      <th>HourlyVisibility</th>\n",
       "      <th>HourlyWindDirection</th>\n",
       "      <th>HourlyWindSpeed</th>\n",
       "      <th>SunriseHour</th>\n",
       "      <th>SunriseMin</th>\n",
       "      <th>SunsetHour</th>\n",
       "      <th>SunsetMin</th>\n",
       "    </tr>\n",
       "  </thead>\n",
       "  <tbody>\n",
       "    <tr>\n",
       "      <th>0</th>\n",
       "      <td>2017</td>\n",
       "      <td>9</td>\n",
       "      <td>16</td>\n",
       "      <td>0</td>\n",
       "      <td>747</td>\n",
       "      <td>CLR</td>\n",
       "      <td>7.0</td>\n",
       "      <td>0</td>\n",
       "      <td>0.0</td>\n",
       "      <td>5</td>\n",
       "      <td>37</td>\n",
       "      <td>18</td>\n",
       "      <td>4</td>\n",
       "    </tr>\n",
       "    <tr>\n",
       "      <th>1</th>\n",
       "      <td>2017</td>\n",
       "      <td>9</td>\n",
       "      <td>16</td>\n",
       "      <td>1</td>\n",
       "      <td>747</td>\n",
       "      <td>CLR</td>\n",
       "      <td>6.0</td>\n",
       "      <td>0</td>\n",
       "      <td>0.0</td>\n",
       "      <td>5</td>\n",
       "      <td>37</td>\n",
       "      <td>18</td>\n",
       "      <td>4</td>\n",
       "    </tr>\n",
       "    <tr>\n",
       "      <th>2</th>\n",
       "      <td>2017</td>\n",
       "      <td>9</td>\n",
       "      <td>16</td>\n",
       "      <td>2</td>\n",
       "      <td>747</td>\n",
       "      <td>CLR</td>\n",
       "      <td>4.0</td>\n",
       "      <td>40</td>\n",
       "      <td>3.0</td>\n",
       "      <td>5</td>\n",
       "      <td>37</td>\n",
       "      <td>18</td>\n",
       "      <td>4</td>\n",
       "    </tr>\n",
       "    <tr>\n",
       "      <th>3</th>\n",
       "      <td>2017</td>\n",
       "      <td>9</td>\n",
       "      <td>16</td>\n",
       "      <td>3</td>\n",
       "      <td>747</td>\n",
       "      <td>CLR</td>\n",
       "      <td>3.0</td>\n",
       "      <td>50</td>\n",
       "      <td>3.0</td>\n",
       "      <td>5</td>\n",
       "      <td>37</td>\n",
       "      <td>18</td>\n",
       "      <td>4</td>\n",
       "    </tr>\n",
       "    <tr>\n",
       "      <th>4</th>\n",
       "      <td>2017</td>\n",
       "      <td>9</td>\n",
       "      <td>16</td>\n",
       "      <td>4</td>\n",
       "      <td>747</td>\n",
       "      <td>CLR</td>\n",
       "      <td>3.0</td>\n",
       "      <td>0</td>\n",
       "      <td>0.0</td>\n",
       "      <td>5</td>\n",
       "      <td>37</td>\n",
       "      <td>18</td>\n",
       "      <td>4</td>\n",
       "    </tr>\n",
       "  </tbody>\n",
       "</table>\n",
       "</div>"
      ],
      "text/plain": [
       "   Year  Month  Day  Hour  SunlightMin HourlySkyWeather  HourlyVisibility  \\\n",
       "0  2017      9   16     0          747              CLR               7.0   \n",
       "1  2017      9   16     1          747              CLR               6.0   \n",
       "2  2017      9   16     2          747              CLR               4.0   \n",
       "3  2017      9   16     3          747              CLR               3.0   \n",
       "4  2017      9   16     4          747              CLR               3.0   \n",
       "\n",
       "  HourlyWindDirection  HourlyWindSpeed  SunriseHour  SunriseMin  SunsetHour  \\\n",
       "0                   0              0.0            5          37          18   \n",
       "1                   0              0.0            5          37          18   \n",
       "2                  40              3.0            5          37          18   \n",
       "3                  50              3.0            5          37          18   \n",
       "4                   0              0.0            5          37          18   \n",
       "\n",
       "   SunsetMin  \n",
       "0          4  \n",
       "1          4  \n",
       "2          4  \n",
       "3          4  \n",
       "4          4  "
      ]
     },
     "execution_count": 180,
     "metadata": {},
     "output_type": "execute_result"
    }
   ],
   "source": [
    "df.head()"
   ]
  },
  {
   "cell_type": "markdown",
   "id": "4e5d7ce2-5f3c-479e-9977-18f640ca2887",
   "metadata": {},
   "source": [
    "#### Challenges in reading file\n",
    "- file may have first few lines as comments\n",
    "- Reading files with multiple directories\n",
    "- other than commas we will have other kinda elimiter seperated values eg: - or tab space\n",
    "- large datasets takes more time to read, so we will split dataset to view "
   ]
  },
  {
   "cell_type": "code",
   "execution_count": 184,
   "id": "ee860e29-cb73-464b-bde9-280cd8e40bc2",
   "metadata": {},
   "outputs": [],
   "source": [
    "# 1. files having comments in the startin\n",
    "\n",
    "# this will be a big problem we will get error\n",
    "\n",
    "# so we use 'skiprows'\n",
    "\n",
    "df = pd.read_csv('weatherData.csv',skiprows = 5)"
   ]
  },
  {
   "cell_type": "code",
   "execution_count": null,
   "id": "3d39aa54-d43d-4a24-b54f-264dd40968b0",
   "metadata": {},
   "outputs": [],
   "source": [
    "# 2. Dataset will be divided as a small small blocks ... that is multiple csv's will be there\n",
    "\n",
    "# eg: csv file for sales data of each year\n",
    "\n",
    "# we will use 'glob' to bind them all\n",
    "\n",
    "import glob\n",
    "\n",
    "# list all the files in the directory\n",
    "\n",
    "for directory in glob.glob('multi_directories/*'):\n",
    "    print(directory)\n",
    "\n",
    "# iterate through each of the files\n",
    "\n",
    "for directory in glob.glob('multi_directory/*'):\n",
    "\n",
    "    for flies in glob.glob(directory + '/*'):\n",
    "        print(files)"
   ]
  },
  {
   "cell_type": "code",
   "execution_count": 3,
   "id": "8d043c8e-6fa0-4dc1-b432-256ebda6fbbb",
   "metadata": {},
   "outputs": [
    {
     "name": "stdout",
     "output_type": "stream",
     "text": [
      "multi_directories/HDFC Income Fund - Growth Option.csv\n",
      "multi_directories/countries-aggregated.csv\n",
      "multi_directories/iris.csv\n",
      "multi_directories/dataset.csv\n",
      "multi_directories/Sales.csv\n"
     ]
    }
   ],
   "source": [
    "import glob\n",
    "\n",
    "# list all the files in the directory\n",
    "\n",
    "for directory in glob.glob('multi_directories/*'):\n",
    "    print(directory)"
   ]
  },
  {
   "cell_type": "code",
   "execution_count": 5,
   "id": "49a0e156-81f3-4de9-a7be-484ff1b02d9c",
   "metadata": {},
   "outputs": [],
   "source": [
    "# iterate through each of the files\n",
    "\n",
    "for directory in glob.glob('multi_directories/*'):\n",
    "\n",
    "    for flies in glob.glob(directory + '/*'):\n",
    "        print(files)"
   ]
  },
  {
   "cell_type": "code",
   "execution_count": null,
   "id": "4d63ac35-9031-4a6f-9ada-7cb3c73423e7",
   "metadata": {},
   "outputs": [],
   "source": [
    "# 2. List to store all the data frames\n",
    "\n",
    "data_frame_list = []\n",
    "for directory in glob.glob('datasets/multi_directory/*'):\n",
    "    for files in glob.glob(directory + '/*'):\n",
    "        data_frame_list.append(pd.read_csv(files))"
   ]
  },
  {
   "cell_type": "code",
   "execution_count": null,
   "id": "16a5d42a-e428-4976-b8a8-fb0758d4e8e3",
   "metadata": {},
   "outputs": [],
   "source": [
    "# concatinating the dataframe\n",
    "\n",
    "final = pd.concat(data_frame_list)"
   ]
  },
  {
   "cell_type": "code",
   "execution_count": null,
   "id": "b0176856-2738-4724-9fa0-6082d53e84db",
   "metadata": {},
   "outputs": [],
   "source": [
    "final.head()"
   ]
  },
  {
   "cell_type": "code",
   "execution_count": null,
   "id": "97ac77fd-a867-40d3-904d-a102d7fa2382",
   "metadata": {},
   "outputs": [],
   "source": [
    "# how to save file using pandas\n",
    "\n",
    "final.to_csv('location/name')\n",
    "\n",
    "# if you dont want index\n",
    "\n",
    "final.to_csv('location/name',index = False)"
   ]
  },
  {
   "cell_type": "code",
   "execution_count": null,
   "id": "ca7cc012-ea1c-42a8-b4f5-6eccada4c988",
   "metadata": {},
   "outputs": [],
   "source": [
    "# 3. deltmeter ulla csv file\n",
    "\n",
    "# to handle this we use delimiter\n",
    "\n",
    "df = pd.read_csv('weatherData.csv',delimiter='\\t')  # this will help us to get proper data"
   ]
  },
  {
   "cell_type": "code",
   "execution_count": 186,
   "id": "9b6c2e1a-d59d-43f7-9f2e-c469d1e654a8",
   "metadata": {},
   "outputs": [],
   "source": [
    "#4.handlig large datasets\n",
    "\n",
    "df = pd.read_csv('weatherData.csv',nrows=100) # first 100 rows we will get so that we can execute it faster"
   ]
  },
  {
   "cell_type": "markdown",
   "id": "6cdefa09-6b67-471a-8260-1e293670e790",
   "metadata": {},
   "source": [
    "# Excel files"
   ]
  },
  {
   "cell_type": "code",
   "execution_count": 190,
   "id": "e1e0ebfb-7546-494c-a2af-3dcbf6567ed9",
   "metadata": {},
   "outputs": [],
   "source": [
    "df = pd.read_excel('study.xlsx')"
   ]
  },
  {
   "cell_type": "code",
   "execution_count": 191,
   "id": "7420a031-4732-4745-9a94-3ab816b9f7b3",
   "metadata": {},
   "outputs": [
    {
     "data": {
      "text/html": [
       "<div>\n",
       "<style scoped>\n",
       "    .dataframe tbody tr th:only-of-type {\n",
       "        vertical-align: middle;\n",
       "    }\n",
       "\n",
       "    .dataframe tbody tr th {\n",
       "        vertical-align: top;\n",
       "    }\n",
       "\n",
       "    .dataframe thead th {\n",
       "        text-align: right;\n",
       "    }\n",
       "</style>\n",
       "<table border=\"1\" class=\"dataframe\">\n",
       "  <thead>\n",
       "    <tr style=\"text-align: right;\">\n",
       "      <th></th>\n",
       "      <th>Age</th>\n",
       "      <th>Gender</th>\n",
       "      <th>What is the role of personnel managers in promoting a positive organizational culture?</th>\n",
       "      <th>What are the various differences among the employees?</th>\n",
       "      <th>Does the following roles of the personnel managers helps in managing the difference among the employees [Communication]</th>\n",
       "      <th>Does the following roles of the personnel managers helps in managing the difference among the employees [Conflict resolution]</th>\n",
       "      <th>Does the following roles of the personnel managers helps in managing the difference among the employees [Performance management]</th>\n",
       "      <th>Does the following roles of the personnel managers helps in managing the difference among the employees [Promotion of work culture]</th>\n",
       "      <th>Does the following roles of the personnel managers helps in managing the difference among the employees [Anti-Discrimination Measures]</th>\n",
       "    </tr>\n",
       "  </thead>\n",
       "  <tbody>\n",
       "    <tr>\n",
       "      <th>0</th>\n",
       "      <td>18 - 25</td>\n",
       "      <td>Female</td>\n",
       "      <td>Leadership</td>\n",
       "      <td>Personality</td>\n",
       "      <td>Neutral</td>\n",
       "      <td>Neutral</td>\n",
       "      <td>Neutral</td>\n",
       "      <td>Neutral</td>\n",
       "      <td>Neutral</td>\n",
       "    </tr>\n",
       "    <tr>\n",
       "      <th>1</th>\n",
       "      <td>18 - 25</td>\n",
       "      <td>Female</td>\n",
       "      <td>Performance management</td>\n",
       "      <td>Culture</td>\n",
       "      <td>Unacceptable</td>\n",
       "      <td>Neutral</td>\n",
       "      <td>Acceptable</td>\n",
       "      <td>Neutral</td>\n",
       "      <td>Acceptable</td>\n",
       "    </tr>\n",
       "    <tr>\n",
       "      <th>2</th>\n",
       "      <td>18 - 25</td>\n",
       "      <td>Male</td>\n",
       "      <td>Leadership</td>\n",
       "      <td>Culture</td>\n",
       "      <td>Strongly acceptable</td>\n",
       "      <td>Acceptable</td>\n",
       "      <td>Neutral</td>\n",
       "      <td>Unacceptable</td>\n",
       "      <td>Strongly Unacceptable</td>\n",
       "    </tr>\n",
       "    <tr>\n",
       "      <th>3</th>\n",
       "      <td>18 - 25</td>\n",
       "      <td>Female</td>\n",
       "      <td>Performance management</td>\n",
       "      <td>Qualification</td>\n",
       "      <td>Neutral</td>\n",
       "      <td>Acceptable</td>\n",
       "      <td>Neutral</td>\n",
       "      <td>Neutral</td>\n",
       "      <td>Neutral</td>\n",
       "    </tr>\n",
       "    <tr>\n",
       "      <th>4</th>\n",
       "      <td>18 - 25</td>\n",
       "      <td>Female</td>\n",
       "      <td>Training and development</td>\n",
       "      <td>Personality</td>\n",
       "      <td>Strongly acceptable</td>\n",
       "      <td>Acceptable</td>\n",
       "      <td>Neutral</td>\n",
       "      <td>Acceptable</td>\n",
       "      <td>Strongly acceptable</td>\n",
       "    </tr>\n",
       "    <tr>\n",
       "      <th>...</th>\n",
       "      <td>...</td>\n",
       "      <td>...</td>\n",
       "      <td>...</td>\n",
       "      <td>...</td>\n",
       "      <td>...</td>\n",
       "      <td>...</td>\n",
       "      <td>...</td>\n",
       "      <td>...</td>\n",
       "      <td>...</td>\n",
       "    </tr>\n",
       "    <tr>\n",
       "      <th>97</th>\n",
       "      <td>36 - 45</td>\n",
       "      <td>Male</td>\n",
       "      <td>Leadership</td>\n",
       "      <td>Hierarchy</td>\n",
       "      <td>Strongly acceptable</td>\n",
       "      <td>Acceptable</td>\n",
       "      <td>Neutral</td>\n",
       "      <td>Acceptable</td>\n",
       "      <td>Acceptable</td>\n",
       "    </tr>\n",
       "    <tr>\n",
       "      <th>98</th>\n",
       "      <td>18 - 25</td>\n",
       "      <td>Male</td>\n",
       "      <td>Employee relation</td>\n",
       "      <td>Income</td>\n",
       "      <td>Strongly acceptable</td>\n",
       "      <td>Acceptable</td>\n",
       "      <td>Neutral</td>\n",
       "      <td>Unacceptable</td>\n",
       "      <td>Strongly Unacceptable</td>\n",
       "    </tr>\n",
       "    <tr>\n",
       "      <th>99</th>\n",
       "      <td>36 - 45</td>\n",
       "      <td>Male</td>\n",
       "      <td>Leadership</td>\n",
       "      <td>Hierarchy</td>\n",
       "      <td>Acceptable</td>\n",
       "      <td>Neutral</td>\n",
       "      <td>Unacceptable</td>\n",
       "      <td>Neutral</td>\n",
       "      <td>Acceptable</td>\n",
       "    </tr>\n",
       "    <tr>\n",
       "      <th>100</th>\n",
       "      <td>18 - 25</td>\n",
       "      <td>Male</td>\n",
       "      <td>Conflict resolution</td>\n",
       "      <td>Personality</td>\n",
       "      <td>Strongly acceptable</td>\n",
       "      <td>Acceptable</td>\n",
       "      <td>Strongly acceptable</td>\n",
       "      <td>Strongly acceptable</td>\n",
       "      <td>Strongly acceptable</td>\n",
       "    </tr>\n",
       "    <tr>\n",
       "      <th>101</th>\n",
       "      <td>18 - 25</td>\n",
       "      <td>Female</td>\n",
       "      <td>Employee engagement</td>\n",
       "      <td>Income</td>\n",
       "      <td>Strongly acceptable</td>\n",
       "      <td>Strongly acceptable</td>\n",
       "      <td>Strongly acceptable</td>\n",
       "      <td>Strongly acceptable</td>\n",
       "      <td>Acceptable</td>\n",
       "    </tr>\n",
       "  </tbody>\n",
       "</table>\n",
       "<p>102 rows × 9 columns</p>\n",
       "</div>"
      ],
      "text/plain": [
       "         Age  Gender  \\\n",
       "0    18 - 25  Female   \n",
       "1    18 - 25  Female   \n",
       "2    18 - 25    Male   \n",
       "3    18 - 25  Female   \n",
       "4    18 - 25  Female   \n",
       "..       ...     ...   \n",
       "97   36 - 45    Male   \n",
       "98   18 - 25    Male   \n",
       "99   36 - 45    Male   \n",
       "100  18 - 25    Male   \n",
       "101  18 - 25  Female   \n",
       "\n",
       "    What is the role of personnel managers in promoting a positive organizational culture?  \\\n",
       "0                                           Leadership                                       \n",
       "1                               Performance management                                       \n",
       "2                                           Leadership                                       \n",
       "3                               Performance management                                       \n",
       "4                             Training and development                                       \n",
       "..                                                 ...                                       \n",
       "97                                          Leadership                                       \n",
       "98                                   Employee relation                                       \n",
       "99                                          Leadership                                       \n",
       "100                                Conflict resolution                                       \n",
       "101                                Employee engagement                                       \n",
       "\n",
       "    What are the various differences among the employees?  \\\n",
       "0                                          Personality      \n",
       "1                                              Culture      \n",
       "2                                              Culture      \n",
       "3                                        Qualification      \n",
       "4                                          Personality      \n",
       "..                                                 ...      \n",
       "97                                           Hierarchy      \n",
       "98                                              Income      \n",
       "99                                           Hierarchy      \n",
       "100                                        Personality      \n",
       "101                                             Income      \n",
       "\n",
       "    Does the following roles of the personnel managers helps in managing the difference among the employees [Communication]  \\\n",
       "0                                              Neutral                                                                        \n",
       "1                                         Unacceptable                                                                        \n",
       "2                                  Strongly acceptable                                                                        \n",
       "3                                              Neutral                                                                        \n",
       "4                                  Strongly acceptable                                                                        \n",
       "..                                                 ...                                                                        \n",
       "97                                 Strongly acceptable                                                                        \n",
       "98                                 Strongly acceptable                                                                        \n",
       "99                                          Acceptable                                                                        \n",
       "100                                Strongly acceptable                                                                        \n",
       "101                                Strongly acceptable                                                                        \n",
       "\n",
       "    Does the following roles of the personnel managers helps in managing the difference among the employees [Conflict resolution]  \\\n",
       "0                                              Neutral                                                                              \n",
       "1                                              Neutral                                                                              \n",
       "2                                           Acceptable                                                                              \n",
       "3                                           Acceptable                                                                              \n",
       "4                                           Acceptable                                                                              \n",
       "..                                                 ...                                                                              \n",
       "97                                          Acceptable                                                                              \n",
       "98                                          Acceptable                                                                              \n",
       "99                                             Neutral                                                                              \n",
       "100                                         Acceptable                                                                              \n",
       "101                                Strongly acceptable                                                                              \n",
       "\n",
       "    Does the following roles of the personnel managers helps in managing the difference among the employees [Performance management]  \\\n",
       "0                                              Neutral                                                                                 \n",
       "1                                           Acceptable                                                                                 \n",
       "2                                              Neutral                                                                                 \n",
       "3                                              Neutral                                                                                 \n",
       "4                                              Neutral                                                                                 \n",
       "..                                                 ...                                                                                 \n",
       "97                                             Neutral                                                                                 \n",
       "98                                             Neutral                                                                                 \n",
       "99                                        Unacceptable                                                                                 \n",
       "100                                Strongly acceptable                                                                                 \n",
       "101                                Strongly acceptable                                                                                 \n",
       "\n",
       "    Does the following roles of the personnel managers helps in managing the difference among the employees [Promotion of work culture]  \\\n",
       "0                                              Neutral                                                                                    \n",
       "1                                              Neutral                                                                                    \n",
       "2                                         Unacceptable                                                                                    \n",
       "3                                              Neutral                                                                                    \n",
       "4                                           Acceptable                                                                                    \n",
       "..                                                 ...                                                                                    \n",
       "97                                          Acceptable                                                                                    \n",
       "98                                        Unacceptable                                                                                    \n",
       "99                                             Neutral                                                                                    \n",
       "100                                Strongly acceptable                                                                                    \n",
       "101                                Strongly acceptable                                                                                    \n",
       "\n",
       "    Does the following roles of the personnel managers helps in managing the difference among the employees [Anti-Discrimination Measures]  \n",
       "0                                              Neutral                                                                                      \n",
       "1                                           Acceptable                                                                                      \n",
       "2                                Strongly Unacceptable                                                                                      \n",
       "3                                              Neutral                                                                                      \n",
       "4                                  Strongly acceptable                                                                                      \n",
       "..                                                 ...                                                                                      \n",
       "97                                          Acceptable                                                                                      \n",
       "98                               Strongly Unacceptable                                                                                      \n",
       "99                                          Acceptable                                                                                      \n",
       "100                                Strongly acceptable                                                                                      \n",
       "101                                         Acceptable                                                                                      \n",
       "\n",
       "[102 rows x 9 columns]"
      ]
     },
     "execution_count": 191,
     "metadata": {},
     "output_type": "execute_result"
    }
   ],
   "source": [
    "df"
   ]
  },
  {
   "cell_type": "markdown",
   "id": "d12335bd-efed-4d6a-96f2-d1d7dd340612",
   "metadata": {},
   "source": [
    "#### Challenges in Excel while reading file\n",
    "- Reading excel with multiple files\n",
    "- comments in top rows\n",
    "- read files present in multiple directories"
   ]
  },
  {
   "cell_type": "code",
   "execution_count": null,
   "id": "ea6a7e46-8653-4e20-9863-68d1a76896fd",
   "metadata": {},
   "outputs": [],
   "source": [
    "# 1. handling multiple sheets in same file\n",
    "\n",
    "# we will specify sheet name\n",
    "\n",
    "sheet1 = pd.read_excel('study.xlsx',sheet_name='mention which sheet you want')\n",
    "sheet2 = pd.read_excel('study.xlsx',sheet_name='mention which sheet you want')\n",
    "sheet3 = pd.read_excel('study.xlsx',sheet_name='mention which sheet you want')\n",
    "\n",
    "# concatinating all sheets\n",
    "\n",
    "sheets = [sheet1, sheet2, sheet3]\n",
    "final = pd.concat(sheets)"
   ]
  },
  {
   "cell_type": "code",
   "execution_count": 192,
   "id": "aabce05d-a1cb-4b36-85aa-4bfd021e377a",
   "metadata": {},
   "outputs": [],
   "source": [
    "# files having coments\n",
    "\n",
    "df = pd.read_excel('study.xlsx',skiprows=4)"
   ]
  },
  {
   "cell_type": "markdown",
   "id": "e2a928b3-7222-4eb3-8c81-571f1bd34bce",
   "metadata": {},
   "source": [
    "# JSON in python"
   ]
  },
  {
   "cell_type": "code",
   "execution_count": 197,
   "id": "5a96578d-f022-4e3b-bf78-1f05f59dc65a",
   "metadata": {},
   "outputs": [],
   "source": [
    "#   {'name':'jeinish', 'age': 21, 'Grade' : 10}, {'name':'jeinish', 'age': 21, 'Grade' : 10}, {'name':'jeinish', 'age': 21, 'Grade' : 10}\n",
    "\n",
    "# data ippadi irukuradhu ore oru json file nu artham\n",
    "\n",
    "df = pd.read_json('file_name.json') # file ippadi irundha ippadi use pannanum\n",
    "\n",
    "'''\n",
    "{'name':'jeinish', 'age': 21, 'Grade' : 10}\n",
    "{'name':'jeinish', 'age': 21, 'Grade' : 10}\n",
    "{'name':'jeinish', 'age': 21, 'Grade' : 10}\n",
    "{'name':'jeinish', 'age': 21, 'Grade' : 10} \n",
    "{'name':'jeinish', 'age': 21, 'Grade' : 10}\n",
    "{'name':'jeinish', 'age': 21, 'Grade' : 10}\n",
    "'''\n",
    "\n",
    "# here each is a seperate jason and for reading this \n",
    "\n",
    "df = pd.read_json('file_name.json', lines = True)\n"
   ]
  },
  {
   "cell_type": "code",
   "execution_count": null,
   "id": "12c127ce-6094-4793-b05c-d263d76c23ee",
   "metadata": {},
   "outputs": [],
   "source": [
    "# handling nested JSON\n",
    "\n",
    "with open('file_name.json') as f:\n",
    "    data = json.load(f)\n",
    "\n",
    "print(data)"
   ]
  },
  {
   "cell_type": "code",
   "execution_count": null,
   "id": "eb8d247f-df0b-4d12-a10d-0f006fa2c61d",
   "metadata": {},
   "outputs": [],
   "source": [
    "# we use pprint stands for pretty print for printing json files in a good manner\n",
    "\n",
    "from pprint import pprint\n",
    "pprint(data)"
   ]
  },
  {
   "cell_type": "code",
   "execution_count": null,
   "id": "5759bbab-dadd-4568-98a3-03d8fc3115bd",
   "metadata": {},
   "outputs": [],
   "source": []
  }
 ],
 "metadata": {
  "kernelspec": {
   "display_name": "Python 3 (ipykernel)",
   "language": "python",
   "name": "python3"
  },
  "language_info": {
   "codemirror_mode": {
    "name": "ipython",
    "version": 3
   },
   "file_extension": ".py",
   "mimetype": "text/x-python",
   "name": "python",
   "nbconvert_exporter": "python",
   "pygments_lexer": "ipython3",
   "version": "3.11.7"
  }
 },
 "nbformat": 4,
 "nbformat_minor": 5
}
